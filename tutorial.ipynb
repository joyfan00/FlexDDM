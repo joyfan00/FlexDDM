{
 "cells": [
  {
   "cell_type": "markdown",
   "metadata": {},
   "source": [
    "# FlexDDM Python Package Jupyter Notebook Tutorial\n",
    "Hi everyone! This is a tutorial of how to use FlexDDM in action for results regarding how to fit models to participant data and how to validate the theoretical models that you create. "
   ]
  },
  {
   "cell_type": "markdown",
   "metadata": {},
   "source": [
    "### Before running this Jupyter notebook, make sure to install Python and Anaconda. <br>\n",
    "\n",
    "#### <u>Python</u>\n",
    "Click the link [here](https://www.python.org/downloads/release/python-3120/) to the Python 3.12.0 distribution that we use that is compatible with this package. \n",
    "\n",
    "#### <u>Anaconda</u>\n",
    "Please make sure to create an environment in Anaconda. To do this, here are the steps: \n",
    "1. Download the Anaconda from this link [here](https://www.anaconda.com/download/success). Follow the installer instructions to correctly install the application. \n",
    "2. Go to the environments tab on the left hand side. Create a new environment by clicking the '+' sign and name it whatever you would like. In our case, we use flexddm. Once you create it, you should see some default packages already installed. \n",
    "<br><br> <img src=\"tutorial_images/environment.png\" alt=\"Environment\" style=\"width:600px;\"/> <br> <br>\n",
    "<br><br> <img src=\"tutorial_images/create_environment.png\" alt=\"Environment\" style=\"height:600px;\"/> <br> <br>\n",
    "<br><br> <img src=\"tutorial_images/create_environment_settings.png\" alt=\"Environment\" style=\"width:600px;\"/> <br> <br>\n",
    "3. There is a play button, click on it and click open with terminal. \n",
    "4. Use the `cd` command and locate the directory where the FlexDDM GitHub respoistory is in your computer. \n",
    "5. Type the following command into the terminal: \n",
    "```bash\n",
    "      pip install -r requirements.txt\n",
    "```\n",
    "\n",
    "When running the Jupyter notebook, make sure to set the kernel to be the Anaconda environment you just created (in our case, it would be flexddm)."
   ]
  },
  {
   "cell_type": "markdown",
   "metadata": {},
   "source": [
    "### Import Models and Functionality\n",
    "The first line allows us to import the models that already exist in the package. The second import statement allows us to fit the models to experimental data and validate the models. "
   ]
  },
  {
   "cell_type": "code",
   "execution_count": 1,
   "metadata": {},
   "outputs": [],
   "source": [
    "from flexddm.models import DMC, DMCfs, DSTP, DSTPit, mDMC, mDMCfs, mDSTP, mDSTPit, mSSP, mSSPit, SSP, SSPit, StandardDDM\n",
    "from flexddm.main import fit, validation"
   ]
  },
  {
   "cell_type": "markdown",
   "metadata": {},
   "source": [
    "### Fitting Models\n",
    "#### Fit Function\n",
    "To fit models, we will utilize the `fit` function from the `main.py` file in the FlexDDM package. This is how to call `fit`: \n",
    "```py\n",
    "fit(models,  input_data, startingParticipants=None, endingParticipants=None, input_data_id=\"PPT\", input_data_congruency=\"Condition\", input_data_rt=\"RT\", input_data_accuracy=\"Correct\", output_fileName='output.csv', return_dataframes=False, posterior_predictive_check=True)\n",
    "```\n",
    "\n",
    "#### Fit Function Parameters\n",
    "Two required parameters: \n",
    "models (list): a list of model objects that you would like to use\n",
    "input_data (str or pd.DataFrame): the participant data that you would like the models to fit to \n",
    "Optional parameters: \n",
    "startingParticipants (int): specifies the ID number \n",
    "\n",
    "The standard format for the data is this: \n",
    "\n",
    "where there are 4 columns: PPT, Condition, Correct, RT. PPT stands for participant, Condition stands for whether or not it is congruency, Correct stands for accuracy, and RT stands for the reaction time. \n",
    "\n",
    "If your data has similar data but does not have the exact same columns, this works too! There is a feature in our `fit` function that allows users to modify the column names to align with their data. "
   ]
  },
  {
   "cell_type": "code",
   "execution_count": null,
   "metadata": {},
   "outputs": [],
   "source": [
    "ssp = SSP()\n",
    "fit([ssp], input_data='flexddm/data/hedge2018.csv')"
   ]
  },
  {
   "cell_type": "markdown",
   "metadata": {},
   "source": [
    "### Validating Models\n",
    "#### Validation Function\n",
    "To validate models, we will utilize the `validation` function from the `main.py` file in the FlexDDM package. This is how to call `validation`: "
   ]
  },
  {
   "cell_type": "code",
   "execution_count": null,
   "metadata": {},
   "outputs": [],
   "source": [
    "ssp = SSP()\n",
    "dmc = DMC()\n",
    "dstp = DSTP()\n",
    "validation(models=[ssp, dmc, dstp])"
   ]
  }
 ],
 "metadata": {
  "kernelspec": {
   "display_name": "flexddm",
   "language": "python",
   "name": "python3"
  },
  "language_info": {
   "codemirror_mode": {
    "name": "ipython",
    "version": 3
   },
   "file_extension": ".py",
   "mimetype": "text/x-python",
   "name": "python",
   "nbconvert_exporter": "python",
   "pygments_lexer": "ipython3",
   "version": "3.12.8"
  }
 },
 "nbformat": 4,
 "nbformat_minor": 2
}
