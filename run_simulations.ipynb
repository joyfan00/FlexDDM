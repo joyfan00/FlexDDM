{
 "cells": [
  {
   "cell_type": "code",
   "execution_count": 2,
   "metadata": {},
   "outputs": [],
   "source": [
    "from models import DSTP, SSP, DMC, StandardDDM\n",
    "import multiprocessing.pool as mpp\n",
    "import sys\n",
    "import json\n",
    "import pandas as pd\n",
    "import numpy as np\n",
    "import numba as nb"
   ]
  },
  {
   "cell_type": "code",
   "execution_count": 3,
   "metadata": {},
   "outputs": [
    {
     "name": "stdout",
     "output_type": "stream",
     "text": [
      "PARTICIPANT 1\n",
      "run 1\n",
      "1\n",
      "differential_evolution step 1: f(x)= 6404.17\n",
      "alphaSS: 12.476240137999815; betaSS: 0.7267187035364836; deltaSS: 0.241349720226691; alphaRS: 17.456245544767057; betaRS: 0.6962788073668881; delta_target: 0.8687014204846815; delta_flanker: 0.9059502853059382; deltaRS: 0.16915868293997138; tau: 1.0389316232108411e-05; \n",
      "0.01752825772872265\n",
      "differential_evolution step 2: f(x)= 6404.17\n",
      "alphaSS: 12.476240137999815; betaSS: 0.7267187035364836; deltaSS: 0.241349720226691; alphaRS: 17.456245544767057; betaRS: 0.6962788073668881; delta_target: 0.8687014204846815; delta_flanker: 0.9059502853059382; deltaRS: 0.16915868293997138; tau: 1.0389316232108411e-05; \n",
      "0.014001879573076885\n",
      "differential_evolution step 3: f(x)= 6404.17\n",
      "alphaSS: 12.476240137999815; betaSS: 0.7267187035364836; deltaSS: 0.241349720226691; alphaRS: 17.456245544767057; betaRS: 0.6962788073668881; delta_target: 0.8687014204846815; delta_flanker: 0.9059502853059382; deltaRS: 0.16915868293997138; tau: 1.0389316232108411e-05; \n",
      "0.012134774297561018\n",
      "differential_evolution step 4: f(x)= 6404.17\n",
      "alphaSS: 12.476240137999815; betaSS: 0.7267187035364836; deltaSS: 0.241349720226691; alphaRS: 17.456245544767057; betaRS: 0.6962788073668881; delta_target: 0.8687014204846815; delta_flanker: 0.9059502853059382; deltaRS: 0.16915868293997138; tau: 1.0389316232108411e-05; \n",
      "0.009736795920896928\n",
      "differential_evolution step 5: f(x)= 6404.17\n",
      "alphaSS: 12.476240137999815; betaSS: 0.7267187035364836; deltaSS: 0.241349720226691; alphaRS: 17.456245544767057; betaRS: 0.6962788073668881; delta_target: 0.8687014204846815; delta_flanker: 0.9059502853059382; deltaRS: 0.16915868293997138; tau: 1.0389316232108411e-05; \n",
      "0.007755149821534632\n",
      "differential_evolution step 6: f(x)= 6404.17\n",
      "alphaSS: 12.476240137999815; betaSS: 0.7267187035364836; deltaSS: 0.241349720226691; alphaRS: 17.456245544767057; betaRS: 0.6962788073668881; delta_target: 0.8687014204846815; delta_flanker: 0.9059502853059382; deltaRS: 0.16915868293997138; tau: 1.0389316232108411e-05; \n",
      "0.006772525294561721\n",
      "differential_evolution step 7: f(x)= 6404.17\n",
      "alphaSS: 12.476240137999815; betaSS: 0.7267187035364836; deltaSS: 0.241349720226691; alphaRS: 17.456245544767057; betaRS: 0.6962788073668881; delta_target: 0.8687014204846815; delta_flanker: 0.9059502853059382; deltaRS: 0.16915868293997138; tau: 1.0389316232108411e-05; \n",
      "0.005859040724295695\n",
      "differential_evolution step 8: f(x)= 6404.17\n",
      "alphaSS: 12.476240137999815; betaSS: 0.7267187035364836; deltaSS: 0.241349720226691; alphaRS: 17.456245544767057; betaRS: 0.6962788073668881; delta_target: 0.8687014204846815; delta_flanker: 0.9059502853059382; deltaRS: 0.16915868293997138; tau: 1.0389316232108411e-05; \n",
      "0.004738035414793448\n",
      "differential_evolution step 9: f(x)= 6404.17\n",
      "alphaSS: 12.476240137999815; betaSS: 0.7267187035364836; deltaSS: 0.241349720226691; alphaRS: 17.456245544767057; betaRS: 0.6962788073668881; delta_target: 0.8687014204846815; delta_flanker: 0.9059502853059382; deltaRS: 0.16915868293997138; tau: 1.0389316232108411e-05; \n",
      "0.00429197537639478\n",
      "differential_evolution step 10: f(x)= 6404.17\n",
      "alphaSS: 12.476240137999815; betaSS: 0.7267187035364836; deltaSS: 0.241349720226691; alphaRS: 17.456245544767057; betaRS: 0.6962788073668881; delta_target: 0.8687014204846815; delta_flanker: 0.9059502853059382; deltaRS: 0.16915868293997138; tau: 1.0389316232108411e-05; \n",
      "0.003692744729380004\n",
      "differential_evolution step 11: f(x)= 6404.17\n",
      "alphaSS: 12.476240137999815; betaSS: 0.7267187035364836; deltaSS: 0.241349720226691; alphaRS: 17.456245544767057; betaRS: 0.6962788073668881; delta_target: 0.8687014204846815; delta_flanker: 0.9059502853059382; deltaRS: 0.16915868293997138; tau: 1.0389316232108411e-05; \n",
      "0.00327125465396234\n",
      "differential_evolution step 12: f(x)= 6404.17\n",
      "alphaSS: 12.476240137999815; betaSS: 0.7267187035364836; deltaSS: 0.241349720226691; alphaRS: 17.456245544767057; betaRS: 0.6962788073668881; delta_target: 0.8687014204846815; delta_flanker: 0.9059502853059382; deltaRS: 0.16915868293997138; tau: 1.0389316232108411e-05; \n",
      "0.002766857855464326\n",
      "differential_evolution step 13: f(x)= 6404.17\n",
      "alphaSS: 12.476240137999815; betaSS: 0.7267187035364836; deltaSS: 0.241349720226691; alphaRS: 17.456245544767057; betaRS: 0.6962788073668881; delta_target: 0.8687014204846815; delta_flanker: 0.9059502853059382; deltaRS: 0.16915868293997138; tau: 1.0389316232108411e-05; \n",
      "0.0025512498387349524\n",
      "differential_evolution step 14: f(x)= 6404.17\n",
      "alphaSS: 12.476240137999815; betaSS: 0.7267187035364836; deltaSS: 0.241349720226691; alphaRS: 17.456245544767057; betaRS: 0.6962788073668881; delta_target: 0.8687014204846815; delta_flanker: 0.9059502853059382; deltaRS: 0.16915868293997138; tau: 1.0389316232108411e-05; \n",
      "0.0020996077415111622\n",
      "differential_evolution step 15: f(x)= 6404.17\n",
      "alphaSS: 12.476240137999815; betaSS: 0.7267187035364836; deltaSS: 0.241349720226691; alphaRS: 17.456245544767057; betaRS: 0.6962788073668881; delta_target: 0.8687014204846815; delta_flanker: 0.9059502853059382; deltaRS: 0.16915868293997138; tau: 1.0389316232108411e-05; \n",
      "0.001655211777204779\n",
      "differential_evolution step 16: f(x)= 6404.17\n",
      "alphaSS: 12.476240137999815; betaSS: 0.7267187035364836; deltaSS: 0.241349720226691; alphaRS: 17.456245544767057; betaRS: 0.6962788073668881; delta_target: 0.8687014204846815; delta_flanker: 0.9059502853059382; deltaRS: 0.16915868293997138; tau: 1.0389316232108411e-05; \n",
      "0.0014685503674072423\n",
      "differential_evolution step 17: f(x)= 6404.17\n",
      "alphaSS: 12.476240137999815; betaSS: 0.7267187035364836; deltaSS: 0.241349720226691; alphaRS: 17.456245544767057; betaRS: 0.6962788073668881; delta_target: 0.8687014204846815; delta_flanker: 0.9059502853059382; deltaRS: 0.16915868293997138; tau: 1.0389316232108411e-05; \n",
      "0.001257034383054309\n",
      "differential_evolution step 18: f(x)= 6404.17\n",
      "alphaSS: 12.476240137999815; betaSS: 0.7267187035364836; deltaSS: 0.241349720226691; alphaRS: 17.456245544767057; betaRS: 0.6962788073668881; delta_target: 0.8687014204846815; delta_flanker: 0.9059502853059382; deltaRS: 0.16915868293997138; tau: 1.0389316232108411e-05; \n",
      "0.0011624763874382529\n",
      "differential_evolution step 19: f(x)= 6404.17\n",
      "alphaSS: 12.476240137999815; betaSS: 0.7267187035364836; deltaSS: 0.241349720226691; alphaRS: 17.456245544767057; betaRS: 0.6962788073668881; delta_target: 0.8687014204846815; delta_flanker: 0.9059502853059382; deltaRS: 0.16915868293997138; tau: 1.0389316232108411e-05; \n",
      "0.0009470274476208308\n",
      "differential_evolution step 20: f(x)= 6404.17\n",
      "alphaSS: 12.476240137999815; betaSS: 0.7267187035364836; deltaSS: 0.241349720226691; alphaRS: 17.456245544767057; betaRS: 0.6962788073668881; delta_target: 0.8687014204846815; delta_flanker: 0.9059502853059382; deltaRS: 0.16915868293997138; tau: 1.0389316232108411e-05; \n",
      "0.0008853669183267068\n",
      "differential_evolution step 21: f(x)= 6404.17\n",
      "alphaSS: 12.476240137999815; betaSS: 0.7267187035364836; deltaSS: 0.241349720226691; alphaRS: 17.456245544767057; betaRS: 0.6962788073668881; delta_target: 0.8687014204846815; delta_flanker: 0.9059502853059382; deltaRS: 0.16915868293997138; tau: 1.0389316232108411e-05; \n",
      "0.0008192319205191259\n",
      "differential_evolution step 22: f(x)= 6404.17\n",
      "alphaSS: 12.476240137999815; betaSS: 0.7267187035364836; deltaSS: 0.241349720226691; alphaRS: 17.456245544767057; betaRS: 0.6962788073668881; delta_target: 0.8687014204846815; delta_flanker: 0.9059502853059382; deltaRS: 0.16915868293997138; tau: 1.0389316232108411e-05; \n",
      "0.0005783149319663608\n",
      "differential_evolution step 23: f(x)= 6404.17\n",
      "alphaSS: 12.476240137999815; betaSS: 0.7267187035364836; deltaSS: 0.241349720226691; alphaRS: 17.456245544767057; betaRS: 0.6962788073668881; delta_target: 0.8687014204846815; delta_flanker: 0.9059502853059382; deltaRS: 0.16915868293997138; tau: 1.0389316232108411e-05; \n",
      "0.00047192917818315595\n",
      "differential_evolution step 24: f(x)= 6404.17\n",
      "alphaSS: 12.476240137999815; betaSS: 0.7267187035364836; deltaSS: 0.241349720226691; alphaRS: 17.456245544767057; betaRS: 0.6962788073668881; delta_target: 0.8687014204846815; delta_flanker: 0.9059502853059382; deltaRS: 0.16915868293997138; tau: 1.0389316232108411e-05; \n",
      "0.0003335186729827435\n",
      "differential_evolution step 25: f(x)= 6404.17\n",
      "alphaSS: 12.385547296491652; betaSS: 0.6222885372803337; deltaSS: 0.241349720226691; alphaRS: 17.456245544767057; betaRS: 0.6951505834665882; delta_target: 0.8979817828537109; delta_flanker: 0.9210467341087127; deltaRS: 0.16915868293997138; tau: 5.399280593554913e-06; \n",
      "0.0003335186729827435\n",
      "differential_evolution step 26: f(x)= 6404.17\n",
      "alphaSS: 12.385547296491652; betaSS: 0.6222885372803337; deltaSS: 0.241349720226691; alphaRS: 17.456245544767057; betaRS: 0.6951505834665882; delta_target: 0.8979817828537109; delta_flanker: 0.9210467341087127; deltaRS: 0.16915868293997138; tau: 5.399280593554913e-06; \n",
      "0.0003335186729827435\n",
      "differential_evolution step 27: f(x)= 6404.17\n",
      "alphaSS: 12.385547296491652; betaSS: 0.6222885372803337; deltaSS: 0.241349720226691; alphaRS: 17.456245544767057; betaRS: 0.6951505834665882; delta_target: 0.8979817828537109; delta_flanker: 0.9210467341087127; deltaRS: 0.16915868293997138; tau: 5.399280593554913e-06; \n",
      "25.807852617798662\n",
      "Polishing solution with 'L-BFGS-B'\n",
      "12.385547296491652, 0.6222885372803337, 0.241349720226691, 17.456245544767057, 0.6951505834665882, 0.8979817828537109, 0.9210467341087127, 0.16915868293997138, 5.399280593554913e-06\n",
      " X^2 = 6404.173194406539\n",
      "run 2\n",
      "2\n",
      "12.385547296491652, 0.6222885372803337, 0.241349720226691, 17.456245544767057, 0.6951505834665882, 0.8979817828537109, 0.9210467341087127, 0.16915868293997138, 5.399280593554913e-06\n",
      " X^2 = 6404.173194406539\n",
      "{'cdfs': [0.1, 0.3, 0.5, 0.7, 0.9], 'cafs': [0.25, 0.5, 0.75], 'cdf_props_congruent': [0.09404761904761905, 0.18809523809523807, 0.1880952380952381, 0.18809523809523804, 0.18809523809523815, 0.09404761904761902], 'cdf_props_incongruent': [0.09389880952380952, 0.18779761904761902, 0.18779761904761905, 0.187797619047619, 0.1877976190476191, 0.0938988095238095], 'caf_props_congruent': [0.03571428571428571, 0.01488095238095238, 0.008928571428571428, 0.0], 'caf_props_incongruent': [0.03571428571428571, 0.017857142857142856, 0.002976190476190476, 0.004464285714285714], 'cdf_congruent': [0.00035298393150000004, 0.0003765542165, 0.0004235671805, 0.0004588510745, 0.000576478188], 'cdf_incongruent': [0.00035298017799999996, 0.000411804639, 0.00044710874900000003, 0.000494136258, 0.000588239363], 'caf_cutoff_congruent': [0.00037651215675, 0.00041769328399999996, 0.00047060884975], 'caf_cutoff_incongruent': [0.00038830002075, 0.0004470964225, 0.0005059033895], 'caf_congruent_rt': [0.0003402569358928572, 0.00039263424878571436, 0.0004382709704285714, 0.0005666733333809524], 'caf_congruent_acc': [0.8571428571428571, 0.9404761904761905, 0.9642857142857143, 1.0], 'caf_incongruent_rt': [0.0003463514113869048, 0.0004198595130059524, 0.0004709674247499999, 0.0005956506383273811], 'caf_incongruent_acc': [0.8571428571428571, 0.9285714285714286, 0.9880952380952381, 0.9821428571428571]}\n"
     ]
    }
   ],
   "source": [
    "#DSTP\n",
    "dstp = DSTP()\n",
    "dstp.runSimulations(1, 2, DSTP.model_simulation, fileName='output_dstp.csv')"
   ]
  },
  {
   "cell_type": "code",
   "execution_count": null,
   "metadata": {},
   "outputs": [],
   "source": [
    "#SSP\n",
    "ssp = SSP()\n",
    "ssp.runSimulations(1, 3, SSP.model_simulation, fileName='output_ssp.csv')"
   ]
  },
  {
   "cell_type": "code",
   "execution_count": null,
   "metadata": {},
   "outputs": [],
   "source": [
    "#DMC\n",
    "dmc = DMC()\n",
    "dmc.runSimulations(1, 5, DMC.model_simulation, fileName='output_dmc.csv')"
   ]
  },
  {
   "cell_type": "code",
   "execution_count": null,
   "metadata": {},
   "outputs": [],
   "source": [
    "#StandardDDM\n",
    "standardddm = StandardDDM()\n",
    "standardddm.runSimulations(1, 5, StandardDDM.model_simulation, fileName='output_ddm.csv')"
   ]
  }
 ],
 "metadata": {
  "kernelspec": {
   "display_name": "Python 3.8.3 ('simulationenv')",
   "language": "python",
   "name": "python3"
  },
  "language_info": {
   "codemirror_mode": {
    "name": "ipython",
    "version": 3
   },
   "file_extension": ".py",
   "mimetype": "text/x-python",
   "name": "python",
   "nbconvert_exporter": "python",
   "pygments_lexer": "ipython3",
   "version": "3.8.3"
  },
  "vscode": {
   "interpreter": {
    "hash": "997e78766c1d3f62d22de82252db3ce82bc27ac1ddc46c523e05bd0361ced723"
   }
  }
 },
 "nbformat": 4,
 "nbformat_minor": 2
}
