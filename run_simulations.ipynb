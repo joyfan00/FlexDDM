{
 "cells": [
  {
   "cell_type": "code",
   "execution_count": 1,
   "metadata": {},
   "outputs": [],
   "source": [
    "from models import DSTP, SSP, DMC, StandardDDM\n",
    "from models import runsimulations, modelrecovery\n",
    "import multiprocessing.pool as mpp\n",
    "import sys\n",
    "import json\n",
    "import pandas as pd\n",
    "import numpy as np\n",
    "import numba as nb\n"
   ]
  },
  {
   "cell_type": "code",
   "execution_count": null,
   "metadata": {},
   "outputs": [],
   "source": [
    "#DSTP\n",
    "dstp = DSTP()\n",
    "runsimulations.run_simulations([dstp], 1, 2, 'S1FlankerData.csv', return_dataframes=True)"
   ]
  },
  {
   "cell_type": "code",
   "execution_count": 2,
   "metadata": {},
   "outputs": [
    {
     "name": "stdout",
     "output_type": "stream",
     "text": [
      "<class 'tuple'>\n",
      "(array([  1,   2,   3,   4,   5,   6,   7,   8,   9,  10,  11,  12,  13,\n",
      "        14,  15,  16,  17,  18,  19,  20,  21,  22,  23,  24,  25,  26,\n",
      "        27,  28,  29,  30,  31,  32,  33,  34,  35,  36,  37,  38,  39,\n",
      "        40,  41,  42,  43,  44,  45,  46,  47,  48,  49,  50,  51,  52,\n",
      "        53,  54,  55,  56,  57,  58,  59,  60,  61,  62,  63,  64,  65,\n",
      "        66,  67,  68,  69,  70,  71,  72,  73,  74,  75,  76,  77,  78,\n",
      "        79,  80,  81,  82,  83,  84,  85,  86,  87,  88,  89,  90,  91,\n",
      "        92,  93,  94,  95,  96,  97,  98,  99, 100]), [1.0, 1.0, 1.0, 1.0, 1.0, 1.0, 1.0, 1.0, 1.0, 1.0, 1.0, 1.0, 1.0, 1.0, 1.0, 1.0, 1.0, 1.0, 1.0, 1.0, 1.0, 1.0, 1.0, 1.0, 1.0, 1.0, 1.0, 1.0, 1.0, 1.0, 1.0, 1.0, 1.0, 1.0, 1.0, 1.0, 1.0, 1.0, 1.0, 1.0, 1.0, 1.0, 1.0, 1.0, 1.0, 1.0, 1.0, 1.0, 1.0, 1.0, 1.0, 1.0, 1.0, 1.0, 1.0, 1.0, 1.0, 1.0, 1.0, 1.0, 1.0, 1.0, 1.0, 1.0, 1.0, 1.0, 1.0, 1.0, 1.0, 1.0, 1.0, 1.0, 1.0, 1.0, 1.0, 1.0, 1.0, 1.0, 1.0, 1.0, 1.0, 1.0, 1.0, 1.0, 1.0, 1.0, 1.0, 1.0, 1.0, 1.0, 1.0, 1.0, 1.0, 1.0, 1.0, 1.0, 1.0, 1.0, 1.0, 1.0], [47.452451555239286, 36.62245155524144, 42.022451555240366, 61.16245155523656, 47.57245155523926, 37.3124515552413, 40.03245155524076, 45.13245155523975, 40.45245155524068, 29.56245155524198, 31.35245155524226, 56.18245155523755, 30.782451555242172, 48.002451555239176, 38.822451555241, 33.732451555242015, 44.00245155523997, 44.40245155523989, 50.8824515552386, 54.66245155523785, 43.07245155524016, 41.63245155524044, 49.23245155523893, 35.242451555241715, 61.332451555236524, 41.16245155524054, 34.75245155524181, 35.98245155524157, 47.43245155523929, 35.53245155524166, 40.722451555240625, 39.67245155524083, 40.58245155524065, 36.22245155524152, 22.20245155524083, 41.3324515552405, 45.792451555239616, 48.53245155523907, 44.72245155523983, 39.29245155524091, 33.41245155524208, 44.91245155523979, 49.162451555238945, 36.702451555241424, 39.98245155524077, 54.61245155523786, 36.352451555241494, 38.09245155524115, 46.302451555239514, 49.00245155523898, 32.482451555242264, 45.32245155523971, 44.442451555239884, 43.732451555240026, 38.53245155524106, 40.88245155524059, 38.80245155524101, 36.3324515552415, 45.13245155523975, 41.13245155524054, 43.27245155524012, 35.60245155524164, 34.232451555241916, 36.27245155524151, 36.89245155524139, 44.73245155523983, 41.622451555240445, 44.132451555239946, 55.142451555237756, 36.8424515552414, 39.52245155524086, 33.12245155524214, 37.19245155524133, 33.40245155524208, 49.512451555238876, 36.952451555241375, 48.33245155523911, 44.10245155523995, 49.07245155523896, 53.55245155523807, 28.292451555241783, 48.68245155523904, 47.79245155523922, 42.76245155524022, 35.60245155524164, 54.18245155523795, 44.76245155523982, 43.52245155524007, 38.02245155524116, 35.60245155524164, 38.80245155524101, 33.832451555241995, 36.152451555241534, 34.75245155524181, 37.58245155524125, 31.762451555242325, 40.24245155524072, 57.13245155523736, 42.67245155524024, 41.69245155524043], ['congruent', 'congruent', 'congruent', 'congruent', 'congruent', 'congruent', 'congruent', 'congruent', 'congruent', 'congruent', 'congruent', 'congruent', 'congruent', 'congruent', 'congruent', 'congruent', 'congruent', 'congruent', 'congruent', 'congruent', 'congruent', 'congruent', 'congruent', 'congruent', 'congruent', 'congruent', 'congruent', 'congruent', 'congruent', 'congruent', 'congruent', 'congruent', 'congruent', 'congruent', 'congruent', 'congruent', 'congruent', 'congruent', 'congruent', 'congruent', 'congruent', 'congruent', 'congruent', 'congruent', 'congruent', 'congruent', 'congruent', 'congruent', 'congruent', 'congruent', 'incongruent', 'incongruent', 'incongruent', 'incongruent', 'incongruent', 'incongruent', 'incongruent', 'incongruent', 'incongruent', 'incongruent', 'incongruent', 'incongruent', 'incongruent', 'incongruent', 'incongruent', 'incongruent', 'incongruent', 'incongruent', 'incongruent', 'incongruent', 'incongruent', 'incongruent', 'incongruent', 'incongruent', 'incongruent', 'incongruent', 'incongruent', 'incongruent', 'incongruent', 'incongruent', 'incongruent', 'incongruent', 'incongruent', 'incongruent', 'incongruent', 'incongruent', 'incongruent', 'incongruent', 'incongruent', 'incongruent', 'incongruent', 'incongruent', 'incongruent', 'incongruent', 'incongruent', 'incongruent', 'incongruent', 'incongruent', 'incongruent', 'incongruent'])\n"
     ]
    },
    {
     "ename": "TypeError",
     "evalue": "tuple indices must be integers or slices, not str",
     "output_type": "error",
     "traceback": [
      "\u001b[0;31m---------------------------------------------------------------------------\u001b[0m",
      "\u001b[0;31mTypeError\u001b[0m                                 Traceback (most recent call last)",
      "Cell \u001b[0;32mIn[2], line 4\u001b[0m\n\u001b[1;32m      2\u001b[0m dmc \u001b[39m=\u001b[39m DMC()\n\u001b[1;32m      3\u001b[0m dstp \u001b[39m=\u001b[39m DSTP()\n\u001b[0;32m----> 4\u001b[0m modelrecovery\u001b[39m.\u001b[39;49mmodel_recovery([ssp, dmc, dstp])\n",
      "File \u001b[0;32m~/FlexDDM/models/modelrecovery.py:24\u001b[0m, in \u001b[0;36mmodel_recovery\u001b[0;34m(models)\u001b[0m\n\u001b[1;32m     20\u001b[0m     \u001b[39mprint\u001b[39m(simulation_data)\n\u001b[1;32m     21\u001b[0m     \u001b[39m# for model in models:\u001b[39;00m\n\u001b[1;32m     22\u001b[0m     \u001b[39m#     model.data = simulation_data\u001b[39;00m\n\u001b[0;32m---> 24\u001b[0m     dfs_list\u001b[39m.\u001b[39mappend(runsimulations\u001b[39m.\u001b[39mrun_simulations(models, \u001b[39m1\u001b[39m, simulation_data[\u001b[39m'\u001b[39;49m\u001b[39mid\u001b[39;49m\u001b[39m'\u001b[39;49m]\u001b[39m.\u001b[39mastype(\u001b[39m'\u001b[39m\u001b[39mint\u001b[39m\u001b[39m'\u001b[39m)\u001b[39m.\u001b[39mmax(), simulation_data, return_dataframes \u001b[39m=\u001b[39m \u001b[39mTrue\u001b[39;00m))\n\u001b[1;32m     26\u001b[0m average_bics \u001b[39m=\u001b[39m []\n\u001b[1;32m     27\u001b[0m \u001b[39mfor\u001b[39;00m df_list \u001b[39min\u001b[39;00m dfs_list:\n",
      "\u001b[0;31mTypeError\u001b[0m: tuple indices must be integers or slices, not str"
     ]
    }
   ],
   "source": [
    "ssp = SSP()\n",
    "dmc = DMC()\n",
    "dstp = DSTP()\n",
    "modelrecovery.model_recovery([ssp, dmc, dstp])"
   ]
  }
 ],
 "metadata": {
  "kernelspec": {
   "display_name": "Python 3.8.3 ('simulationenv')",
   "language": "python",
   "name": "python3"
  },
  "language_info": {
   "codemirror_mode": {
    "name": "ipython",
    "version": 3
   },
   "file_extension": ".py",
   "mimetype": "text/x-python",
   "name": "python",
   "nbconvert_exporter": "python",
   "pygments_lexer": "ipython3",
   "version": "3.8.3"
  },
  "vscode": {
   "interpreter": {
    "hash": "997e78766c1d3f62d22de82252db3ce82bc27ac1ddc46c523e05bd0361ced723"
   }
  }
 },
 "nbformat": 4,
 "nbformat_minor": 2
}
