{
 "cells": [
  {
   "cell_type": "code",
   "execution_count": null,
   "metadata": {},
   "outputs": [],
   "source": [
    "from Model import Model\n",
    "from SSP import SSP\n",
    "from DMC import DMC\n",
    "from DSTP import DSTP\n",
    "import multiprocessing.pool as mpp\n",
    "import sys\n",
    "import json\n",
    "import pandas as pd\n",
    "import numpy as np\n",
    "import numba as nb\n",
    "from variables import Variables\n",
    "from file_input import *"
   ]
  },
  {
   "cell_type": "code",
   "execution_count": null,
   "metadata": {},
   "outputs": [],
   "source": [
    "#DSTP\n",
    "mpp.Pool.istarmap = Model.istarmap\n",
    "dstp = DSTP()\n",
    "pars = [0.5, 0.5, 0.4, 0.5, 0.5, 0.05, 0.05, 1.5, 0.03]\n",
    "dstp.runSimulations(pars, 1, 2, DSTP.model_simulation, fileName='output_dstp.csv')"
   ]
  },
  {
   "cell_type": "code",
   "execution_count": null,
   "metadata": {},
   "outputs": [],
   "source": [
    "#SSP\n",
    "mpp.Pool.istarmap = Model.istarmap\n",
    "ssp = SSP()\n",
    "pars = [0, 0.5, 0.4, 1.5, 0.04, 0.03]\n",
    "ssp.runSimulations(pars, 1, 3, SSP.model_simulation, fileName='output_ssp.csv')"
   ]
  },
  {
   "cell_type": "code",
   "execution_count": null,
   "metadata": {},
   "outputs": [],
   "source": [
    "#DMC\n",
    "mpp.Pool.istarmap = Model.istarmap\n",
    "dmc = DMC()\n",
    "pars = [5, 0.5, 10, 5, 5, 0.5, 0.01]\n",
    "dmc.runSimulations(pars, 1, 5, DMC.model_simulation, fileName='output_dmc.csv')"
   ]
  },
  {
   "cell_type": "code",
   "execution_count": null,
   "metadata": {},
   "outputs": [],
   "source": []
  }
 ],
 "metadata": {
  "kernelspec": {
   "display_name": "simulationenv",
   "language": "python",
   "name": "python3"
  },
  "language_info": {
   "codemirror_mode": {
    "name": "ipython",
    "version": 3
   },
   "file_extension": ".py",
   "mimetype": "text/x-python",
   "name": "python",
   "nbconvert_exporter": "python",
   "pygments_lexer": "ipython3",
   "version": "3.11.4"
  }
 },
 "nbformat": 4,
 "nbformat_minor": 2
}
