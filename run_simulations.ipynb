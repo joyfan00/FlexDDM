{
 "cells": [
  {
   "cell_type": "code",
   "execution_count": 1,
   "metadata": {},
   "outputs": [
    {
     "ename": "AttributeError",
     "evalue": "type object 'str' has no attribute 'model_simulation'",
     "output_type": "error",
     "traceback": [
      "\u001b[0;31m---------------------------------------------------------------------------\u001b[0m",
      "\u001b[0;31mAttributeError\u001b[0m                            Traceback (most recent call last)",
      "Cell \u001b[0;32mIn[1], line 1\u001b[0m\n\u001b[0;32m----> 1\u001b[0m \u001b[39mfrom\u001b[39;00m \u001b[39mmodels\u001b[39;00m \u001b[39mimport\u001b[39;00m DSTP, SSP, DMC, StandardDDM\n\u001b[1;32m      2\u001b[0m \u001b[39mfrom\u001b[39;00m \u001b[39mmodels\u001b[39;00m \u001b[39mimport\u001b[39;00m runsimulations\n\u001b[1;32m      3\u001b[0m \u001b[39mimport\u001b[39;00m \u001b[39mmultiprocessing\u001b[39;00m\u001b[39m.\u001b[39;00m\u001b[39mpool\u001b[39;00m \u001b[39mas\u001b[39;00m \u001b[39mmpp\u001b[39;00m\n",
      "File \u001b[0;32m~/FlexDDM/models/__init__.py:1\u001b[0m\n\u001b[0;32m----> 1\u001b[0m \u001b[39mfrom\u001b[39;00m \u001b[39m.\u001b[39;00m\u001b[39mDSTP\u001b[39;00m \u001b[39mimport\u001b[39;00m DSTP\n\u001b[1;32m      2\u001b[0m \u001b[39mfrom\u001b[39;00m \u001b[39m.\u001b[39;00m\u001b[39mSSP\u001b[39;00m \u001b[39mimport\u001b[39;00m SSP\n\u001b[1;32m      3\u001b[0m \u001b[39mfrom\u001b[39;00m \u001b[39m.\u001b[39;00m\u001b[39mDMC\u001b[39;00m \u001b[39mimport\u001b[39;00m DMC\n",
      "File \u001b[0;32m~/FlexDDM/models/DSTP.py:11\u001b[0m\n\u001b[1;32m      5\u001b[0m \u001b[39mfrom\u001b[39;00m \u001b[39m.\u001b[39;00m\u001b[39mModel\u001b[39;00m \u001b[39mimport\u001b[39;00m Model\n\u001b[1;32m      7\u001b[0m \u001b[39m\"\"\"\u001b[39;00m\n\u001b[1;32m      8\u001b[0m \u001b[39mClass to simulate data according to the Dual Stage Two Phase model (DSTP) \u001b[39;00m\n\u001b[1;32m      9\u001b[0m \u001b[39m\"\"\"\u001b[39;00m\n\u001b[0;32m---> 11\u001b[0m \u001b[39mclass\u001b[39;00m \u001b[39mDSTP\u001b[39;00m(Model):\n\u001b[1;32m     12\u001b[0m     modelsimulationfunction \u001b[39m=\u001b[39m \u001b[39mstaticmethod\u001b[39m(\u001b[39mstr\u001b[39m\u001b[39m.\u001b[39mmodel_simulation)\n\u001b[1;32m     14\u001b[0m     data \u001b[39m=\u001b[39m pd\u001b[39m.\u001b[39mDataFrame()\n",
      "File \u001b[0;32m~/FlexDDM/models/DSTP.py:12\u001b[0m, in \u001b[0;36mDSTP\u001b[0;34m()\u001b[0m\n\u001b[1;32m     11\u001b[0m \u001b[39mclass\u001b[39;00m \u001b[39mDSTP\u001b[39;00m(Model):\n\u001b[0;32m---> 12\u001b[0m     modelsimulationfunction \u001b[39m=\u001b[39m \u001b[39mstaticmethod\u001b[39m(\u001b[39mstr\u001b[39;49m\u001b[39m.\u001b[39;49mmodel_simulation)\n\u001b[1;32m     14\u001b[0m     data \u001b[39m=\u001b[39m pd\u001b[39m.\u001b[39mDataFrame()\n\u001b[1;32m     15\u001b[0m     param_number \u001b[39m=\u001b[39m \u001b[39m9\u001b[39m\n",
      "\u001b[0;31mAttributeError\u001b[0m: type object 'str' has no attribute 'model_simulation'"
     ]
    }
   ],
   "source": [
    "from models import DSTP, SSP, DMC, StandardDDM\n",
    "from models import runsimulations\n",
    "import multiprocessing.pool as mpp\n",
    "import sys\n",
    "import json\n",
    "import pandas as pd\n",
    "import numpy as np\n",
    "import numba as nb\n"
   ]
  },
  {
   "cell_type": "code",
   "execution_count": 2,
   "metadata": {},
   "outputs": [
    {
     "name": "stdout",
     "output_type": "stream",
     "text": [
      "PARTICIPANT 1\n",
      "run 1\n",
      "1\n"
     ]
    },
    {
     "ename": "TypingError",
     "evalue": "Failed in nopython mode pipeline (step: nopython frontend)\nnon-precise type pyobject\nDuring: typing of argument at /Users/alipuccio/FlexDDM/models/DSTP.py (30)\n\nFile \"models/DSTP.py\", line 30:\n    def __init__(self, path=\"S1FlankerData.csv\"):\n        <source elided>\n\n    @nb.jit(nopython=True, cache=True, parallel=False, fastmath=True, nogil=True)\n    ^ \n\nThis error may have been caused by the following argument(s):\n- argument 0: Cannot determine Numba type of <class 'models.DSTP.DSTP'>\n",
     "output_type": "error",
     "traceback": [
      "\u001b[0;31m---------------------------------------------------------------------------\u001b[0m",
      "\u001b[0;31mRemoteTraceback\u001b[0m                           Traceback (most recent call last)",
      "\u001b[0;31mRemoteTraceback\u001b[0m: \n\"\"\"\nTraceback (most recent call last):\n  File \"/Users/alipuccio/anaconda3/envs/simulationenv/lib/python3.8/multiprocessing/pool.py\", line 125, in worker\n    result = (True, func(*args, **kwds))\n  File \"/Users/alipuccio/anaconda3/envs/simulationenv/lib/python3.8/multiprocessing/pool.py\", line 48, in mapstar\n    return list(map(*args))\n  File \"/Users/alipuccio/anaconda3/envs/simulationenv/lib/python3.8/site-packages/scipy/_lib/_util.py\", line 372, in __call__\n    return self.f(x, *self.args)\n  File \"/Users/alipuccio/FlexDDM/models/Model.py\", line 104, in model_function\n    predictions = m.model_predict(function, x, props)\n  File \"/Users/alipuccio/FlexDDM/models/Model.py\", line 277, in model_predict\n    sim_data = self.parallel_sim(function, params)\n  File \"/Users/alipuccio/FlexDDM/models/Model.py\", line 150, in parallel_sim\n    results.append(function(*parameters))\n  File \"/Users/alipuccio/anaconda3/envs/simulationenv/lib/python3.8/site-packages/numba/core/dispatcher.py\", line 468, in _compile_for_args\n    error_rewrite(e, 'typing')\n  File \"/Users/alipuccio/anaconda3/envs/simulationenv/lib/python3.8/site-packages/numba/core/dispatcher.py\", line 409, in error_rewrite\n    raise e.with_traceback(None)\nnumba.core.errors.TypingError: Failed in nopython mode pipeline (step: nopython frontend)\nnon-precise type pyobject\nDuring: typing of argument at /Users/alipuccio/FlexDDM/models/DSTP.py (30)\n\nFile \"models/DSTP.py\", line 30:\n    def __init__(self, path=\"S1FlankerData.csv\"):\n        <source elided>\n\n    @nb.jit(nopython=True, cache=True, parallel=False, fastmath=True, nogil=True)\n    ^ \n\nThis error may have been caused by the following argument(s):\n- argument 0: Cannot determine Numba type of <class 'models.DSTP.DSTP'>\n\n\"\"\"",
      "\nThe above exception was the direct cause of the following exception:\n",
      "\u001b[0;31mTypingError\u001b[0m                               Traceback (most recent call last)",
      "Cell \u001b[0;32mIn[2], line 3\u001b[0m\n\u001b[1;32m      1\u001b[0m \u001b[39m# Testing new runsimulation\u001b[39;00m\n\u001b[1;32m      2\u001b[0m dstp \u001b[39m=\u001b[39m DSTP()\n\u001b[0;32m----> 3\u001b[0m runsimulations\u001b[39m.\u001b[39;49mrunSimulations([dstp], \u001b[39m1\u001b[39;49m, \u001b[39m2\u001b[39;49m)\n",
      "File \u001b[0;32m~/FlexDDM/models/runsimulations.py:17\u001b[0m, in \u001b[0;36mrunSimulations\u001b[0;34m(models, startingParticipants, endingParticipants, fileName)\u001b[0m\n\u001b[1;32m     15\u001b[0m fitstat2 \u001b[39m=\u001b[39m fitstat\n\u001b[1;32m     16\u001b[0m \u001b[39mprint\u001b[39m(runint)\n\u001b[0;32m---> 17\u001b[0m pars, fitstat \u001b[39m=\u001b[39m model\u001b[39m.\u001b[39;49mfit(model\u001b[39m.\u001b[39;49mmodel_simulation, model\u001b[39m.\u001b[39;49mdata[model\u001b[39m.\u001b[39;49mdata[\u001b[39m'\u001b[39;49m\u001b[39mid\u001b[39;49m\u001b[39m'\u001b[39;49m]\u001b[39m==\u001b[39;49ms], pars, run\u001b[39m=\u001b[39;49mrunint)\n\u001b[1;32m     18\u001b[0m \u001b[39mprint\u001b[39m(\u001b[39m\"\u001b[39m\u001b[39m, \u001b[39m\u001b[39m\"\u001b[39m\u001b[39m.\u001b[39mjoin(\u001b[39mstr\u001b[39m(x) \u001b[39mfor\u001b[39;00m x \u001b[39min\u001b[39;00m pars))\n\u001b[1;32m     19\u001b[0m \u001b[39mprint\u001b[39m(\u001b[39m\"\u001b[39m\u001b[39m X^2 = \u001b[39m\u001b[39m%s\u001b[39;00m\u001b[39m\"\u001b[39m \u001b[39m%\u001b[39m fitstat)\n",
      "File \u001b[0;32m~/FlexDDM/models/Model.py:79\u001b[0m, in \u001b[0;36mModel.fit\u001b[0;34m(self, function, data, params, run)\u001b[0m\n\u001b[1;32m     76\u001b[0m     fit \u001b[39m=\u001b[39m minimize(Model\u001b[39m.\u001b[39mmodel_function, bounds\u001b[39m=\u001b[39mbounds_var, x0\u001b[39m=\u001b[39mparams, args\u001b[39m=\u001b[39m(props,\u001b[39mself\u001b[39m\u001b[39m.\u001b[39mparam_number,\u001b[39mself\u001b[39m\u001b[39m.\u001b[39mparameter_names,function, data, bounds_var), options\u001b[39m=\u001b[39m{\u001b[39m'\u001b[39m\u001b[39mmaxiter\u001b[39m\u001b[39m'\u001b[39m: \u001b[39m1000\u001b[39m},\n\u001b[1;32m     77\u001b[0m                 method\u001b[39m=\u001b[39m\u001b[39m'\u001b[39m\u001b[39mNelder-Mead\u001b[39m\u001b[39m'\u001b[39m)\n\u001b[1;32m     78\u001b[0m \u001b[39melse\u001b[39;00m:\n\u001b[0;32m---> 79\u001b[0m     fit \u001b[39m=\u001b[39m differential_evolution(Model\u001b[39m.\u001b[39;49mmodel_function, bounds\u001b[39m=\u001b[39;49mbounds_var, x0\u001b[39m=\u001b[39;49mparams,\n\u001b[1;32m     80\u001b[0m                             args\u001b[39m=\u001b[39;49m(props,\u001b[39mself\u001b[39;49m\u001b[39m.\u001b[39;49mparam_number,\u001b[39mself\u001b[39;49m\u001b[39m.\u001b[39;49mparameter_names, function, data, bounds_var), maxiter\u001b[39m=\u001b[39;49m\u001b[39m1000\u001b[39;49m, seed\u001b[39m=\u001b[39;49m\u001b[39m10\u001b[39;49m,\n\u001b[1;32m     81\u001b[0m                             disp\u001b[39m=\u001b[39;49m\u001b[39mTrue\u001b[39;49;00m, popsize\u001b[39m=\u001b[39;49m\u001b[39m100\u001b[39;49m, polish\u001b[39m=\u001b[39;49m\u001b[39mTrue\u001b[39;49;00m, callback\u001b[39m=\u001b[39;49mprintCurrentIteration, workers\u001b[39m=\u001b[39;49m\u001b[39m-\u001b[39;49m\u001b[39m1\u001b[39;49m)\n\u001b[1;32m     83\u001b[0m bestparams \u001b[39m=\u001b[39m fit\u001b[39m.\u001b[39mx\n\u001b[1;32m     84\u001b[0m fitstat \u001b[39m=\u001b[39m fit\u001b[39m.\u001b[39mfun\n",
      "File \u001b[0;32m~/anaconda3/envs/simulationenv/lib/python3.8/site-packages/scipy/optimize/_differentialevolution.py:397\u001b[0m, in \u001b[0;36mdifferential_evolution\u001b[0;34m(func, bounds, args, strategy, maxiter, popsize, tol, mutation, recombination, seed, callback, disp, polish, init, atol, updating, workers, constraints, x0, integrality, vectorized)\u001b[0m\n\u001b[1;32m    380\u001b[0m \u001b[39m# using a context manager means that any created Pool objects are\u001b[39;00m\n\u001b[1;32m    381\u001b[0m \u001b[39m# cleared up.\u001b[39;00m\n\u001b[1;32m    382\u001b[0m \u001b[39mwith\u001b[39;00m DifferentialEvolutionSolver(func, bounds, args\u001b[39m=\u001b[39margs,\n\u001b[1;32m    383\u001b[0m                                  strategy\u001b[39m=\u001b[39mstrategy,\n\u001b[1;32m    384\u001b[0m                                  maxiter\u001b[39m=\u001b[39mmaxiter,\n\u001b[0;32m   (...)\u001b[0m\n\u001b[1;32m    395\u001b[0m                                  integrality\u001b[39m=\u001b[39mintegrality,\n\u001b[1;32m    396\u001b[0m                                  vectorized\u001b[39m=\u001b[39mvectorized) \u001b[39mas\u001b[39;00m solver:\n\u001b[0;32m--> 397\u001b[0m     ret \u001b[39m=\u001b[39m solver\u001b[39m.\u001b[39;49msolve()\n\u001b[1;32m    399\u001b[0m \u001b[39mreturn\u001b[39;00m ret\n",
      "File \u001b[0;32m~/anaconda3/envs/simulationenv/lib/python3.8/site-packages/scipy/optimize/_differentialevolution.py:989\u001b[0m, in \u001b[0;36mDifferentialEvolutionSolver.solve\u001b[0;34m(self)\u001b[0m\n\u001b[1;32m    984\u001b[0m     \u001b[39mself\u001b[39m\u001b[39m.\u001b[39mfeasible, \u001b[39mself\u001b[39m\u001b[39m.\u001b[39mconstraint_violation \u001b[39m=\u001b[39m (\n\u001b[1;32m    985\u001b[0m         \u001b[39mself\u001b[39m\u001b[39m.\u001b[39m_calculate_population_feasibilities(\u001b[39mself\u001b[39m\u001b[39m.\u001b[39mpopulation))\n\u001b[1;32m    987\u001b[0m     \u001b[39m# only work out population energies for feasible solutions\u001b[39;00m\n\u001b[1;32m    988\u001b[0m     \u001b[39mself\u001b[39m\u001b[39m.\u001b[39mpopulation_energies[\u001b[39mself\u001b[39m\u001b[39m.\u001b[39mfeasible] \u001b[39m=\u001b[39m (\n\u001b[0;32m--> 989\u001b[0m         \u001b[39mself\u001b[39;49m\u001b[39m.\u001b[39;49m_calculate_population_energies(\n\u001b[1;32m    990\u001b[0m             \u001b[39mself\u001b[39;49m\u001b[39m.\u001b[39;49mpopulation[\u001b[39mself\u001b[39;49m\u001b[39m.\u001b[39;49mfeasible]))\n\u001b[1;32m    992\u001b[0m     \u001b[39mself\u001b[39m\u001b[39m.\u001b[39m_promote_lowest_energy()\n\u001b[1;32m    994\u001b[0m \u001b[39m# do the optimization.\u001b[39;00m\n",
      "File \u001b[0;32m~/anaconda3/envs/simulationenv/lib/python3.8/site-packages/scipy/optimize/_differentialevolution.py:1123\u001b[0m, in \u001b[0;36mDifferentialEvolutionSolver._calculate_population_energies\u001b[0;34m(self, population)\u001b[0m\n\u001b[1;32m   1120\u001b[0m parameters_pop \u001b[39m=\u001b[39m \u001b[39mself\u001b[39m\u001b[39m.\u001b[39m_scale_parameters(population)\n\u001b[1;32m   1121\u001b[0m \u001b[39mtry\u001b[39;00m:\n\u001b[1;32m   1122\u001b[0m     calc_energies \u001b[39m=\u001b[39m \u001b[39mlist\u001b[39m(\n\u001b[0;32m-> 1123\u001b[0m         \u001b[39mself\u001b[39;49m\u001b[39m.\u001b[39;49m_mapwrapper(\u001b[39mself\u001b[39;49m\u001b[39m.\u001b[39;49mfunc, parameters_pop[\u001b[39m0\u001b[39;49m:S])\n\u001b[1;32m   1124\u001b[0m     )\n\u001b[1;32m   1125\u001b[0m     calc_energies \u001b[39m=\u001b[39m np\u001b[39m.\u001b[39msqueeze(calc_energies)\n\u001b[1;32m   1126\u001b[0m \u001b[39mexcept\u001b[39;00m (\u001b[39mTypeError\u001b[39;00m, \u001b[39mValueError\u001b[39;00m) \u001b[39mas\u001b[39;00m e:\n\u001b[1;32m   1127\u001b[0m     \u001b[39m# wrong number of arguments for _mapwrapper\u001b[39;00m\n\u001b[1;32m   1128\u001b[0m     \u001b[39m# or wrong length returned from the mapper\u001b[39;00m\n",
      "File \u001b[0;32m~/anaconda3/envs/simulationenv/lib/python3.8/site-packages/scipy/_lib/_util.py:442\u001b[0m, in \u001b[0;36mMapWrapper.__call__\u001b[0;34m(self, func, iterable)\u001b[0m\n\u001b[1;32m    439\u001b[0m \u001b[39mdef\u001b[39;00m \u001b[39m__call__\u001b[39m(\u001b[39mself\u001b[39m, func, iterable):\n\u001b[1;32m    440\u001b[0m     \u001b[39m# only accept one iterable because that's all Pool.map accepts\u001b[39;00m\n\u001b[1;32m    441\u001b[0m     \u001b[39mtry\u001b[39;00m:\n\u001b[0;32m--> 442\u001b[0m         \u001b[39mreturn\u001b[39;00m \u001b[39mself\u001b[39;49m\u001b[39m.\u001b[39;49m_mapfunc(func, iterable)\n\u001b[1;32m    443\u001b[0m     \u001b[39mexcept\u001b[39;00m \u001b[39mTypeError\u001b[39;00m \u001b[39mas\u001b[39;00m e:\n\u001b[1;32m    444\u001b[0m         \u001b[39m# wrong number of arguments\u001b[39;00m\n\u001b[1;32m    445\u001b[0m         \u001b[39mraise\u001b[39;00m \u001b[39mTypeError\u001b[39;00m(\u001b[39m\"\u001b[39m\u001b[39mThe map-like callable must be of the\u001b[39m\u001b[39m\"\u001b[39m\n\u001b[1;32m    446\u001b[0m                         \u001b[39m\"\u001b[39m\u001b[39m form f(func, iterable)\u001b[39m\u001b[39m\"\u001b[39m) \u001b[39mfrom\u001b[39;00m \u001b[39me\u001b[39;00m\n",
      "File \u001b[0;32m~/anaconda3/envs/simulationenv/lib/python3.8/multiprocessing/pool.py:364\u001b[0m, in \u001b[0;36mPool.map\u001b[0;34m(self, func, iterable, chunksize)\u001b[0m\n\u001b[1;32m    359\u001b[0m \u001b[39mdef\u001b[39;00m \u001b[39mmap\u001b[39m(\u001b[39mself\u001b[39m, func, iterable, chunksize\u001b[39m=\u001b[39m\u001b[39mNone\u001b[39;00m):\n\u001b[1;32m    360\u001b[0m \u001b[39m    \u001b[39m\u001b[39m'''\u001b[39;00m\n\u001b[1;32m    361\u001b[0m \u001b[39m    Apply `func` to each element in `iterable`, collecting the results\u001b[39;00m\n\u001b[1;32m    362\u001b[0m \u001b[39m    in a list that is returned.\u001b[39;00m\n\u001b[1;32m    363\u001b[0m \u001b[39m    '''\u001b[39;00m\n\u001b[0;32m--> 364\u001b[0m     \u001b[39mreturn\u001b[39;00m \u001b[39mself\u001b[39;49m\u001b[39m.\u001b[39;49m_map_async(func, iterable, mapstar, chunksize)\u001b[39m.\u001b[39;49mget()\n",
      "File \u001b[0;32m~/anaconda3/envs/simulationenv/lib/python3.8/multiprocessing/pool.py:771\u001b[0m, in \u001b[0;36mApplyResult.get\u001b[0;34m(self, timeout)\u001b[0m\n\u001b[1;32m    769\u001b[0m     \u001b[39mreturn\u001b[39;00m \u001b[39mself\u001b[39m\u001b[39m.\u001b[39m_value\n\u001b[1;32m    770\u001b[0m \u001b[39melse\u001b[39;00m:\n\u001b[0;32m--> 771\u001b[0m     \u001b[39mraise\u001b[39;00m \u001b[39mself\u001b[39m\u001b[39m.\u001b[39m_value\n",
      "\u001b[0;31mTypingError\u001b[0m: Failed in nopython mode pipeline (step: nopython frontend)\nnon-precise type pyobject\nDuring: typing of argument at /Users/alipuccio/FlexDDM/models/DSTP.py (30)\n\nFile \"models/DSTP.py\", line 30:\n    def __init__(self, path=\"S1FlankerData.csv\"):\n        <source elided>\n\n    @nb.jit(nopython=True, cache=True, parallel=False, fastmath=True, nogil=True)\n    ^ \n\nThis error may have been caused by the following argument(s):\n- argument 0: Cannot determine Numba type of <class 'models.DSTP.DSTP'>\n"
     ]
    }
   ],
   "source": [
    "# Testing new runsimulation\n",
    "dstp = DSTP()\n",
    "print(type(dstp))\n",
    "#runsimulations.runSimulations([dstp], 1, 2)"
   ]
  },
  {
   "cell_type": "code",
   "execution_count": 3,
   "metadata": {},
   "outputs": [
    {
     "name": "stdout",
     "output_type": "stream",
     "text": [
      "PARTICIPANT 1\n",
      "run 1\n",
      "1\n",
      "differential_evolution step 1: f(x)= 6404.17\n",
      "alphaSS: 12.476240137999815; betaSS: 0.7267187035364836; deltaSS: 0.241349720226691; alphaRS: 17.456245544767057; betaRS: 0.6962788073668881; delta_target: 0.8687014204846815; delta_flanker: 0.9059502853059382; deltaRS: 0.16915868293997138; tau: 1.0389316232108411e-05; \n",
      "0.01752825772872265\n",
      "differential_evolution step 2: f(x)= 6404.17\n",
      "alphaSS: 12.476240137999815; betaSS: 0.7267187035364836; deltaSS: 0.241349720226691; alphaRS: 17.456245544767057; betaRS: 0.6962788073668881; delta_target: 0.8687014204846815; delta_flanker: 0.9059502853059382; deltaRS: 0.16915868293997138; tau: 1.0389316232108411e-05; \n",
      "0.014001879573076885\n",
      "differential_evolution step 3: f(x)= 6404.17\n",
      "alphaSS: 12.476240137999815; betaSS: 0.7267187035364836; deltaSS: 0.241349720226691; alphaRS: 17.456245544767057; betaRS: 0.6962788073668881; delta_target: 0.8687014204846815; delta_flanker: 0.9059502853059382; deltaRS: 0.16915868293997138; tau: 1.0389316232108411e-05; \n",
      "0.012134774297561018\n",
      "differential_evolution step 4: f(x)= 6404.17\n",
      "alphaSS: 12.476240137999815; betaSS: 0.7267187035364836; deltaSS: 0.241349720226691; alphaRS: 17.456245544767057; betaRS: 0.6962788073668881; delta_target: 0.8687014204846815; delta_flanker: 0.9059502853059382; deltaRS: 0.16915868293997138; tau: 1.0389316232108411e-05; \n",
      "0.009736795920896928\n",
      "differential_evolution step 5: f(x)= 6404.17\n",
      "alphaSS: 12.476240137999815; betaSS: 0.7267187035364836; deltaSS: 0.241349720226691; alphaRS: 17.456245544767057; betaRS: 0.6962788073668881; delta_target: 0.8687014204846815; delta_flanker: 0.9059502853059382; deltaRS: 0.16915868293997138; tau: 1.0389316232108411e-05; \n",
      "0.007755149821534632\n",
      "differential_evolution step 6: f(x)= 6404.17\n",
      "alphaSS: 12.476240137999815; betaSS: 0.7267187035364836; deltaSS: 0.241349720226691; alphaRS: 17.456245544767057; betaRS: 0.6962788073668881; delta_target: 0.8687014204846815; delta_flanker: 0.9059502853059382; deltaRS: 0.16915868293997138; tau: 1.0389316232108411e-05; \n",
      "0.006772525294561721\n",
      "differential_evolution step 7: f(x)= 6404.17\n",
      "alphaSS: 12.476240137999815; betaSS: 0.7267187035364836; deltaSS: 0.241349720226691; alphaRS: 17.456245544767057; betaRS: 0.6962788073668881; delta_target: 0.8687014204846815; delta_flanker: 0.9059502853059382; deltaRS: 0.16915868293997138; tau: 1.0389316232108411e-05; \n",
      "0.005859040724295695\n",
      "differential_evolution step 8: f(x)= 6404.17\n",
      "alphaSS: 12.476240137999815; betaSS: 0.7267187035364836; deltaSS: 0.241349720226691; alphaRS: 17.456245544767057; betaRS: 0.6962788073668881; delta_target: 0.8687014204846815; delta_flanker: 0.9059502853059382; deltaRS: 0.16915868293997138; tau: 1.0389316232108411e-05; \n",
      "0.004738035414793448\n",
      "differential_evolution step 9: f(x)= 6404.17\n",
      "alphaSS: 12.476240137999815; betaSS: 0.7267187035364836; deltaSS: 0.241349720226691; alphaRS: 17.456245544767057; betaRS: 0.6962788073668881; delta_target: 0.8687014204846815; delta_flanker: 0.9059502853059382; deltaRS: 0.16915868293997138; tau: 1.0389316232108411e-05; \n",
      "0.00429197537639478\n",
      "differential_evolution step 10: f(x)= 6404.17\n",
      "alphaSS: 12.476240137999815; betaSS: 0.7267187035364836; deltaSS: 0.241349720226691; alphaRS: 17.456245544767057; betaRS: 0.6962788073668881; delta_target: 0.8687014204846815; delta_flanker: 0.9059502853059382; deltaRS: 0.16915868293997138; tau: 1.0389316232108411e-05; \n",
      "0.003692744729380004\n",
      "differential_evolution step 11: f(x)= 6404.17\n",
      "alphaSS: 12.476240137999815; betaSS: 0.7267187035364836; deltaSS: 0.241349720226691; alphaRS: 17.456245544767057; betaRS: 0.6962788073668881; delta_target: 0.8687014204846815; delta_flanker: 0.9059502853059382; deltaRS: 0.16915868293997138; tau: 1.0389316232108411e-05; \n",
      "0.00327125465396234\n",
      "differential_evolution step 12: f(x)= 6404.17\n",
      "alphaSS: 12.476240137999815; betaSS: 0.7267187035364836; deltaSS: 0.241349720226691; alphaRS: 17.456245544767057; betaRS: 0.6962788073668881; delta_target: 0.8687014204846815; delta_flanker: 0.9059502853059382; deltaRS: 0.16915868293997138; tau: 1.0389316232108411e-05; \n",
      "0.002766857855464326\n",
      "differential_evolution step 13: f(x)= 6404.17\n",
      "alphaSS: 12.476240137999815; betaSS: 0.7267187035364836; deltaSS: 0.241349720226691; alphaRS: 17.456245544767057; betaRS: 0.6962788073668881; delta_target: 0.8687014204846815; delta_flanker: 0.9059502853059382; deltaRS: 0.16915868293997138; tau: 1.0389316232108411e-05; \n",
      "0.0025512498387349524\n",
      "differential_evolution step 14: f(x)= 6404.17\n",
      "alphaSS: 12.476240137999815; betaSS: 0.7267187035364836; deltaSS: 0.241349720226691; alphaRS: 17.456245544767057; betaRS: 0.6962788073668881; delta_target: 0.8687014204846815; delta_flanker: 0.9059502853059382; deltaRS: 0.16915868293997138; tau: 1.0389316232108411e-05; \n",
      "0.0020996077415111622\n",
      "differential_evolution step 15: f(x)= 6404.17\n",
      "alphaSS: 12.476240137999815; betaSS: 0.7267187035364836; deltaSS: 0.241349720226691; alphaRS: 17.456245544767057; betaRS: 0.6962788073668881; delta_target: 0.8687014204846815; delta_flanker: 0.9059502853059382; deltaRS: 0.16915868293997138; tau: 1.0389316232108411e-05; \n",
      "0.001655211777204779\n",
      "differential_evolution step 16: f(x)= 6404.17\n",
      "alphaSS: 12.476240137999815; betaSS: 0.7267187035364836; deltaSS: 0.241349720226691; alphaRS: 17.456245544767057; betaRS: 0.6962788073668881; delta_target: 0.8687014204846815; delta_flanker: 0.9059502853059382; deltaRS: 0.16915868293997138; tau: 1.0389316232108411e-05; \n",
      "0.0014685503674072423\n",
      "differential_evolution step 17: f(x)= 6404.17\n",
      "alphaSS: 12.476240137999815; betaSS: 0.7267187035364836; deltaSS: 0.241349720226691; alphaRS: 17.456245544767057; betaRS: 0.6962788073668881; delta_target: 0.8687014204846815; delta_flanker: 0.9059502853059382; deltaRS: 0.16915868293997138; tau: 1.0389316232108411e-05; \n",
      "0.001257034383054309\n",
      "differential_evolution step 18: f(x)= 6404.17\n",
      "alphaSS: 12.476240137999815; betaSS: 0.7267187035364836; deltaSS: 0.241349720226691; alphaRS: 17.456245544767057; betaRS: 0.6962788073668881; delta_target: 0.8687014204846815; delta_flanker: 0.9059502853059382; deltaRS: 0.16915868293997138; tau: 1.0389316232108411e-05; \n",
      "0.0011624763874382529\n",
      "differential_evolution step 19: f(x)= 6404.17\n",
      "alphaSS: 12.476240137999815; betaSS: 0.7267187035364836; deltaSS: 0.241349720226691; alphaRS: 17.456245544767057; betaRS: 0.6962788073668881; delta_target: 0.8687014204846815; delta_flanker: 0.9059502853059382; deltaRS: 0.16915868293997138; tau: 1.0389316232108411e-05; \n",
      "0.0009470274476208308\n",
      "differential_evolution step 20: f(x)= 6404.17\n",
      "alphaSS: 12.476240137999815; betaSS: 0.7267187035364836; deltaSS: 0.241349720226691; alphaRS: 17.456245544767057; betaRS: 0.6962788073668881; delta_target: 0.8687014204846815; delta_flanker: 0.9059502853059382; deltaRS: 0.16915868293997138; tau: 1.0389316232108411e-05; \n",
      "0.0008853669183267068\n",
      "differential_evolution step 21: f(x)= 6404.17\n",
      "alphaSS: 12.476240137999815; betaSS: 0.7267187035364836; deltaSS: 0.241349720226691; alphaRS: 17.456245544767057; betaRS: 0.6962788073668881; delta_target: 0.8687014204846815; delta_flanker: 0.9059502853059382; deltaRS: 0.16915868293997138; tau: 1.0389316232108411e-05; \n",
      "0.0008192319205191259\n",
      "differential_evolution step 22: f(x)= 6404.17\n",
      "alphaSS: 12.476240137999815; betaSS: 0.7267187035364836; deltaSS: 0.241349720226691; alphaRS: 17.456245544767057; betaRS: 0.6962788073668881; delta_target: 0.8687014204846815; delta_flanker: 0.9059502853059382; deltaRS: 0.16915868293997138; tau: 1.0389316232108411e-05; \n",
      "0.0005783149319663608\n",
      "differential_evolution step 23: f(x)= 6404.17\n",
      "alphaSS: 12.476240137999815; betaSS: 0.7267187035364836; deltaSS: 0.241349720226691; alphaRS: 17.456245544767057; betaRS: 0.6962788073668881; delta_target: 0.8687014204846815; delta_flanker: 0.9059502853059382; deltaRS: 0.16915868293997138; tau: 1.0389316232108411e-05; \n",
      "0.00047192917818315595\n",
      "differential_evolution step 24: f(x)= 6404.17\n",
      "alphaSS: 12.476240137999815; betaSS: 0.7267187035364836; deltaSS: 0.241349720226691; alphaRS: 17.456245544767057; betaRS: 0.6962788073668881; delta_target: 0.8687014204846815; delta_flanker: 0.9059502853059382; deltaRS: 0.16915868293997138; tau: 1.0389316232108411e-05; \n",
      "0.0003335186729827435\n",
      "differential_evolution step 25: f(x)= 6404.17\n",
      "alphaSS: 12.385547296491652; betaSS: 0.6222885372803337; deltaSS: 0.241349720226691; alphaRS: 17.456245544767057; betaRS: 0.6951505834665882; delta_target: 0.8979817828537109; delta_flanker: 0.9210467341087127; deltaRS: 0.16915868293997138; tau: 5.399280593554913e-06; \n",
      "0.0003335186729827435\n",
      "differential_evolution step 26: f(x)= 6404.17\n",
      "alphaSS: 12.385547296491652; betaSS: 0.6222885372803337; deltaSS: 0.241349720226691; alphaRS: 17.456245544767057; betaRS: 0.6951505834665882; delta_target: 0.8979817828537109; delta_flanker: 0.9210467341087127; deltaRS: 0.16915868293997138; tau: 5.399280593554913e-06; \n",
      "0.0003335186729827435\n",
      "differential_evolution step 27: f(x)= 6404.17\n",
      "alphaSS: 12.385547296491652; betaSS: 0.6222885372803337; deltaSS: 0.241349720226691; alphaRS: 17.456245544767057; betaRS: 0.6951505834665882; delta_target: 0.8979817828537109; delta_flanker: 0.9210467341087127; deltaRS: 0.16915868293997138; tau: 5.399280593554913e-06; \n",
      "25.807852617798662\n",
      "Polishing solution with 'L-BFGS-B'\n",
      "12.385547296491652, 0.6222885372803337, 0.241349720226691, 17.456245544767057, 0.6951505834665882, 0.8979817828537109, 0.9210467341087127, 0.16915868293997138, 5.399280593554913e-06\n",
      " X^2 = 6404.173194406539\n",
      "run 2\n",
      "2\n",
      "12.385547296491652, 0.6222885372803337, 0.241349720226691, 17.456245544767057, 0.6951505834665882, 0.8979817828537109, 0.9210467341087127, 0.16915868293997138, 5.399280593554913e-06\n",
      " X^2 = 6404.173194406539\n",
      "{'cdfs': [0.1, 0.3, 0.5, 0.7, 0.9], 'cafs': [0.25, 0.5, 0.75], 'cdf_props_congruent': [0.09404761904761905, 0.18809523809523807, 0.1880952380952381, 0.18809523809523804, 0.18809523809523815, 0.09404761904761902], 'cdf_props_incongruent': [0.09389880952380952, 0.18779761904761902, 0.18779761904761905, 0.187797619047619, 0.1877976190476191, 0.0938988095238095], 'caf_props_congruent': [0.03571428571428571, 0.01488095238095238, 0.008928571428571428, 0.0], 'caf_props_incongruent': [0.03571428571428571, 0.017857142857142856, 0.002976190476190476, 0.004464285714285714], 'cdf_congruent': [0.00035298393150000004, 0.0003765542165, 0.0004235671805, 0.0004588510745, 0.000576478188], 'cdf_incongruent': [0.00035298017799999996, 0.000411804639, 0.00044710874900000003, 0.000494136258, 0.000588239363], 'caf_cutoff_congruent': [0.00037651215675, 0.00041769328399999996, 0.00047060884975], 'caf_cutoff_incongruent': [0.00038830002075, 0.0004470964225, 0.0005059033895], 'caf_congruent_rt': [0.0003402569358928572, 0.00039263424878571436, 0.0004382709704285714, 0.0005666733333809524], 'caf_congruent_acc': [0.8571428571428571, 0.9404761904761905, 0.9642857142857143, 1.0], 'caf_incongruent_rt': [0.0003463514113869048, 0.0004198595130059524, 0.0004709674247499999, 0.0005956506383273811], 'caf_incongruent_acc': [0.8571428571428571, 0.9285714285714286, 0.9880952380952381, 0.9821428571428571]}\n"
     ]
    }
   ],
   "source": [
    "#DSTP\n",
    "dstp = DSTP()\n",
    "dstp.runSimulations(1, 2, DSTP.model_simulation, fileName='output_dstp.csv')"
   ]
  },
  {
   "cell_type": "code",
   "execution_count": null,
   "metadata": {},
   "outputs": [],
   "source": [
    "#SSP\n",
    "ssp = SSP()\n",
    "ssp.runSimulations(1, 3, SSP.model_simulation, fileName='output_ssp.csv')"
   ]
  },
  {
   "cell_type": "code",
   "execution_count": null,
   "metadata": {},
   "outputs": [],
   "source": [
    "#DMC\n",
    "dmc = DMC()\n",
    "dmc.runSimulations(1, 5, DMC.model_simulation, fileName='output_dmc.csv')"
   ]
  },
  {
   "cell_type": "code",
   "execution_count": null,
   "metadata": {},
   "outputs": [],
   "source": [
    "#StandardDDM\n",
    "standardddm = StandardDDM()\n",
    "standardddm.runSimulations(1, 5, StandardDDM.model_simulation, fileName='output_ddm.csv')"
   ]
  }
 ],
 "metadata": {
  "kernelspec": {
   "display_name": "Python 3.8.3 ('simulationenv')",
   "language": "python",
   "name": "python3"
  },
  "language_info": {
   "codemirror_mode": {
    "name": "ipython",
    "version": 3
   },
   "file_extension": ".py",
   "mimetype": "text/x-python",
   "name": "python",
   "nbconvert_exporter": "python",
   "pygments_lexer": "ipython3",
   "version": "3.8.3"
  },
  "vscode": {
   "interpreter": {
    "hash": "997e78766c1d3f62d22de82252db3ce82bc27ac1ddc46c523e05bd0361ced723"
   }
  }
 },
 "nbformat": 4,
 "nbformat_minor": 2
}
