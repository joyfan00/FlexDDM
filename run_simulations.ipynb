{
 "cells": [
  {
   "cell_type": "code",
   "execution_count": 1,
   "metadata": {},
   "outputs": [],
   "source": [
    "from models import DSTP, SSP, DMC, StandardDDM\n",
    "from models import runsimulations, modelrecovery\n",
    "import multiprocessing.pool as mpp\n",
    "import sys\n",
    "import json\n",
    "import pandas as pd\n",
    "import numpy as np\n",
    "import numba as nb\n"
   ]
  },
  {
   "cell_type": "code",
   "execution_count": null,
   "metadata": {},
   "outputs": [],
   "source": [
    "#DSTP\n",
    "dstp = DSTP()\n",
    "runsimulations.run_simulations([dstp], 1, 1, 'S1FlankerData.csv', return_dataframes=True)"
   ]
  },
  {
   "cell_type": "code",
   "execution_count": 2,
   "metadata": {},
   "outputs": [
    {
     "ename": "TypeError",
     "evalue": "not enough arguments: expected at least 6, got 3",
     "output_type": "error",
     "traceback": [
      "\u001b[0;31m---------------------------------------------------------------------------\u001b[0m",
      "\u001b[0;31mTypeError\u001b[0m                                 Traceback (most recent call last)",
      "Cell \u001b[0;32mIn[2], line 3\u001b[0m\n\u001b[1;32m      1\u001b[0m ssp \u001b[39m=\u001b[39m SSP()\n\u001b[1;32m      2\u001b[0m dmc \u001b[39m=\u001b[39m DMC()\n\u001b[0;32m----> 3\u001b[0m modelrecovery\u001b[39m.\u001b[39;49mmodel_recovery([ssp, dmc])\n",
      "File \u001b[0;32m~/FlexDDM/models/modelrecovery.py:29\u001b[0m, in \u001b[0;36mmodel_recovery\u001b[0;34m(models)\u001b[0m\n\u001b[1;32m     26\u001b[0m         \u001b[39mfor\u001b[39;00m lower_bound, upper_bound \u001b[39min\u001b[39;00m model\u001b[39m.\u001b[39mbounds:\n\u001b[1;32m     27\u001b[0m             initial_params\u001b[39m.\u001b[39mappend(np\u001b[39m.\u001b[39mrandom\u001b[39m.\u001b[39muniform(lower_bound, upper_bound))\n\u001b[0;32m---> 29\u001b[0m             simulation_data \u001b[39m=\u001b[39m pd\u001b[39m.\u001b[39mconcat([simulation_data, convertToDF(model\u001b[39m.\u001b[39;49mmodelsimulationfunction(\u001b[39m*\u001b[39;49minitial_params, \u001b[39m6\u001b[39;49m, nTrials\u001b[39m=\u001b[39;49m\u001b[39m300\u001b[39;49m), x)])\n\u001b[1;32m     31\u001b[0m     dfs_list\u001b[39m.\u001b[39mappend(runsimulations\u001b[39m.\u001b[39mrun_simulations(models, \u001b[39m1\u001b[39m, simulation_data[\u001b[39m'\u001b[39m\u001b[39mid\u001b[39m\u001b[39m'\u001b[39m]\u001b[39m.\u001b[39mastype(\u001b[39m'\u001b[39m\u001b[39mint\u001b[39m\u001b[39m'\u001b[39m)\u001b[39m.\u001b[39mmax(), simulation_data, return_dataframes \u001b[39m=\u001b[39m \u001b[39mTrue\u001b[39;00m, fileName\u001b[39m=\u001b[39m\u001b[39m'\u001b[39m\u001b[39moutput\u001b[39m\u001b[39m'\u001b[39m \u001b[39m+\u001b[39m \u001b[39mstr\u001b[39m(counter) \u001b[39m+\u001b[39m \u001b[39m'\u001b[39m\u001b[39m.csv\u001b[39m\u001b[39m'\u001b[39m))\n\u001b[1;32m     32\u001b[0m \u001b[39m# Initialize lists to store counts of best fit models for each simulation\u001b[39;00m\n",
      "\u001b[0;31mTypeError\u001b[0m: not enough arguments: expected at least 6, got 3"
     ]
    }
   ],
   "source": [
    "ssp = SSP()\n",
    "dmc = DMC()\n",
    "modelrecovery.model_recovery([ssp, dmc])"
   ]
  }
 ],
 "metadata": {
  "kernelspec": {
   "display_name": "Python 3.8.3 ('simulationenv')",
   "language": "python",
   "name": "python3"
  },
  "language_info": {
   "codemirror_mode": {
    "name": "ipython",
    "version": 3
   },
   "file_extension": ".py",
   "mimetype": "text/x-python",
   "name": "python",
   "nbconvert_exporter": "python",
   "pygments_lexer": "ipython3",
   "version": "3.8.3"
  },
  "vscode": {
   "interpreter": {
    "hash": "997e78766c1d3f62d22de82252db3ce82bc27ac1ddc46c523e05bd0361ced723"
   }
  }
 },
 "nbformat": 4,
 "nbformat_minor": 2
}
