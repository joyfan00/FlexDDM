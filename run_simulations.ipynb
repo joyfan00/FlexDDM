{
 "cells": [
  {
   "cell_type": "code",
   "execution_count": 1,
   "metadata": {},
   "outputs": [],
   "source": [
    "from models import DSTP, SSP, DMC, StandardDDM\n",
    "from models import runsimulations, modelrecovery\n",
    "import multiprocessing.pool as mpp\n",
    "import sys\n",
    "import json\n",
    "import pandas as pd\n",
    "import numpy as np\n",
    "import numba as nb\n"
   ]
  },
  {
   "cell_type": "code",
   "execution_count": null,
   "metadata": {},
   "outputs": [],
   "source": [
    "#DSTP\n",
    "dstp = DSTP()\n",
    "runsimulations.run_simulations([dstp], 1, 3, 'S1FlankerData.csv', return_dataframes=True)"
   ]
  },
  {
   "cell_type": "code",
   "execution_count": 2,
   "metadata": {},
   "outputs": [
    {
     "ename": "TypeError",
     "evalue": "tuple indices must be integers or slices, not str",
     "output_type": "error",
     "traceback": [
      "\u001b[0;31m---------------------------------------------------------------------------\u001b[0m",
      "\u001b[0;31mTypeError\u001b[0m                                 Traceback (most recent call last)",
      "Cell \u001b[0;32mIn[2], line 4\u001b[0m\n\u001b[1;32m      2\u001b[0m dmc \u001b[39m=\u001b[39m DMC()\n\u001b[1;32m      3\u001b[0m dstp \u001b[39m=\u001b[39m DSTP()\n\u001b[0;32m----> 4\u001b[0m modelrecovery\u001b[39m.\u001b[39;49mmodel_recovery([ssp, dmc, dstp])\n",
      "File \u001b[0;32m~/FlexDDM/models/modelrecovery.py:23\u001b[0m, in \u001b[0;36mmodel_recovery\u001b[0;34m(models)\u001b[0m\n\u001b[1;32m     18\u001b[0m     simulation_data \u001b[39m=\u001b[39m model\u001b[39m.\u001b[39mmodelsimulationfunction(\u001b[39m*\u001b[39minitial_params)\n\u001b[1;32m     20\u001b[0m     \u001b[39m# for model in models:\u001b[39;00m\n\u001b[1;32m     21\u001b[0m     \u001b[39m#     model.data = simulation_data\u001b[39;00m\n\u001b[0;32m---> 23\u001b[0m     dfs_list\u001b[39m.\u001b[39mappend(runsimulations\u001b[39m.\u001b[39mrun_simulations(models, \u001b[39m1\u001b[39m, simulation_data[\u001b[39m'\u001b[39;49m\u001b[39mid\u001b[39;49m\u001b[39m'\u001b[39;49m]\u001b[39m.\u001b[39mastype(\u001b[39m'\u001b[39m\u001b[39mint\u001b[39m\u001b[39m'\u001b[39m)\u001b[39m.\u001b[39mmax(), simulation_data, return_dataframes \u001b[39m=\u001b[39m \u001b[39mTrue\u001b[39;00m))\n\u001b[1;32m     25\u001b[0m average_bics \u001b[39m=\u001b[39m []\n\u001b[1;32m     26\u001b[0m \u001b[39mfor\u001b[39;00m df_list \u001b[39min\u001b[39;00m dfs_list:\n",
      "\u001b[0;31mTypeError\u001b[0m: tuple indices must be integers or slices, not str"
     ]
    }
   ],
   "source": [
    "ssp = SSP()\n",
    "dmc = DMC()\n",
    "dstp = DSTP()\n",
    "modelrecovery.model_recovery([ssp, dmc, dstp])"
   ]
  }
 ],
 "metadata": {
  "kernelspec": {
   "display_name": "Python 3.8.3 ('simulationenv')",
   "language": "python",
   "name": "python3"
  },
  "language_info": {
   "codemirror_mode": {
    "name": "ipython",
    "version": 3
   },
   "file_extension": ".py",
   "mimetype": "text/x-python",
   "name": "python",
   "nbconvert_exporter": "python",
   "pygments_lexer": "ipython3",
   "version": "3.8.3"
  },
  "vscode": {
   "interpreter": {
    "hash": "997e78766c1d3f62d22de82252db3ce82bc27ac1ddc46c523e05bd0361ced723"
   }
  }
 },
 "nbformat": 4,
 "nbformat_minor": 2
}
