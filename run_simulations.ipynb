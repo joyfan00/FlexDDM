{
 "cells": [
  {
   "cell_type": "code",
   "execution_count": 1,
   "metadata": {},
   "outputs": [],
   "source": [
    "from flexddm.models import DSTPit, SSPit, mSSPit, DMCfs, mDMCfs, DSTP, mDSTP, SSP, mSSP, DMC, mDMC, StandardDDM\n",
    "from flexddm import main\n",
    "import multiprocessing.pool as mpp\n",
    "import sys\n",
    "import json\n",
    "import pandas as pd\n",
    "import numpy as np\n",
    "import numba as nb"
   ]
  },
  {
   "cell_type": "code",
   "execution_count": null,
   "metadata": {},
   "outputs": [],
   "source": [
    "from flexddm.modelfit import fit\n",
    "dstpit = DSTPit()\n",
    "dstp = DSTP()\n",
    "mdstp = mDSTP()\n",
    "sspit = SSPit()\n",
    "msspit = mSSPit()\n",
    "ssp = SSP()\n",
    "mssp = mSSP()\n",
    "dmcfs = DMCfs()\n",
    "mdmcfs = mDMCfs()\n",
    "dmc = DMC()\n",
    "mdmc = mDMC()\n",
    "fit([dstp, ssp, dmc])"
   ]
  },
  {
   "cell_type": "code",
   "execution_count": null,
   "metadata": {},
   "outputs": [],
   "source": [
    "dstpit = DSTPit()\n",
    "dstp = DSTP()\n",
    "mdstp = mDSTP()\n",
    "sspit = SSPit()\n",
    "msspit = mSSPit()\n",
    "ssp = SSP()\n",
    "mssp = mSSP()\n",
    "dmcfs = DMCfs()\n",
    "mdmcfs = mDMCfs()\n",
    "dmc = DMC()\n",
    "mdmc = mDMC()\n",
    "main.validation([dstp, ssp, dmc], parameter_recovery=False)"
   ]
  },
  {
   "cell_type": "code",
   "execution_count": null,
   "metadata": {},
   "outputs": [],
   "source": [
    "import pandas as pd\n",
    "hedge2018 = pd.read_csv('flexddm/data/hedge2019.csv')\n",
    "hedge2018"
   ]
  },
  {
   "cell_type": "code",
   "execution_count": null,
   "metadata": {},
   "outputs": [],
   "source": [
    "hedge2018['PPT'].unique()"
   ]
  },
  {
   "cell_type": "code",
   "execution_count": null,
   "metadata": {},
   "outputs": [],
   "source": [
    "5, 17, 37, 75, 78, 84, 88, 106"
   ]
  },
  {
   "cell_type": "code",
   "execution_count": null,
   "metadata": {},
   "outputs": [],
   "source": [
    "hedge2018['PPT'].map({})"
   ]
  },
  {
   "cell_type": "code",
   "execution_count": 2,
   "metadata": {},
   "outputs": [
    {
     "name": "stdout",
     "output_type": "stream",
     "text": [
      "101 157\n"
     ]
    },
    {
     "data": {
      "application/vnd.jupyter.widget-view+json": {
       "model_id": "6feeec8011244ba4b44c65008e4ef09d",
       "version_major": 2,
       "version_minor": 0
      },
      "text/plain": [
       "  0%|          | 0/57 [00:00<?, ?it/s]"
      ]
     },
     "metadata": {},
     "output_type": "display_data"
    },
    {
     "name": "stdout",
     "output_type": "stream",
     "text": [
      "differential_evolution step 1: f(x)= 1052.09\n",
      "differential_evolution step 2: f(x)= 1033.19\n",
      "differential_evolution step 3: f(x)= 912.248\n",
      "differential_evolution step 4: f(x)= 490.686\n",
      "differential_evolution step 5: f(x)= 297.363\n",
      "differential_evolution step 6: f(x)= 297.363\n",
      "differential_evolution step 7: f(x)= 297.363\n",
      "differential_evolution step 8: f(x)= 297.363\n",
      "differential_evolution step 9: f(x)= 297.363\n"
     ]
    },
    {
     "ename": "KeyboardInterrupt",
     "evalue": "",
     "output_type": "error",
     "traceback": [
      "\u001b[0;31m---------------------------------------------------------------------------\u001b[0m",
      "\u001b[0;31mKeyboardInterrupt\u001b[0m                         Traceback (most recent call last)",
      "Cell \u001b[0;32mIn[2], line 12\u001b[0m\n\u001b[1;32m     10\u001b[0m dmc \u001b[39m=\u001b[39m DMC()\n\u001b[1;32m     11\u001b[0m mdmc \u001b[39m=\u001b[39m mDMC()\n\u001b[0;32m---> 12\u001b[0m main\u001b[39m.\u001b[39;49mfit([dmc], input_data\u001b[39m=\u001b[39;49m\u001b[39m'\u001b[39;49m\u001b[39mflexddm/data/hedge2019.csv\u001b[39;49m\u001b[39m'\u001b[39;49m, posterior_predictive_check\u001b[39m=\u001b[39;49m\u001b[39mFalse\u001b[39;49;00m)\n",
      "File \u001b[0;32m~/Desktop/FlexDDM/FlexDDM/flexddm/main.py:19\u001b[0m, in \u001b[0;36mfit\u001b[0;34m(models, input_data, startingParticipants, endingParticipants, input_data_id, input_data_congruency, input_data_rt, input_data_accuracy, output_fileName, return_dataframes, posterior_predictive_check)\u001b[0m\n\u001b[1;32m     18\u001b[0m \u001b[39mdef\u001b[39;00m \u001b[39mfit\u001b[39m(models,  input_data, startingParticipants\u001b[39m=\u001b[39m\u001b[39mNone\u001b[39;00m, endingParticipants\u001b[39m=\u001b[39m\u001b[39mNone\u001b[39;00m, input_data_id\u001b[39m=\u001b[39m\u001b[39m\"\u001b[39m\u001b[39mPPT\u001b[39m\u001b[39m\"\u001b[39m, input_data_congruency\u001b[39m=\u001b[39m\u001b[39m\"\u001b[39m\u001b[39mCondition\u001b[39m\u001b[39m\"\u001b[39m, input_data_rt\u001b[39m=\u001b[39m\u001b[39m\"\u001b[39m\u001b[39mRT\u001b[39m\u001b[39m\"\u001b[39m, input_data_accuracy\u001b[39m=\u001b[39m\u001b[39m\"\u001b[39m\u001b[39mCorrect\u001b[39m\u001b[39m\"\u001b[39m, output_fileName\u001b[39m=\u001b[39m\u001b[39m'\u001b[39m\u001b[39moutput.csv\u001b[39m\u001b[39m'\u001b[39m, return_dataframes\u001b[39m=\u001b[39m\u001b[39mFalse\u001b[39;00m, posterior_predictive_check\u001b[39m=\u001b[39m\u001b[39mTrue\u001b[39;00m):\n\u001b[0;32m---> 19\u001b[0m     modelfit\u001b[39m.\u001b[39;49mfit(models, input_data, startingParticipants, endingParticipants, input_data_id, input_data_congruency, input_data_rt, input_data_accuracy, output_fileName, return_dataframes, posterior_predictive_check)\n",
      "File \u001b[0;32m~/Desktop/FlexDDM/FlexDDM/flexddm/modelfit.py:39\u001b[0m, in \u001b[0;36mfit\u001b[0;34m(models, input_data, startingParticipants, endingParticipants, input_data_id, input_data_congruency, input_data_rt, input_data_accuracy, output_fileName, return_dataframes, posterior_predictive_check)\u001b[0m\n\u001b[1;32m     36\u001b[0m \u001b[39mwhile\u001b[39;00m fitstat \u001b[39m!=\u001b[39m fitstat2:\n\u001b[1;32m     37\u001b[0m     \u001b[39m# print('run %s' % runint)\u001b[39;00m\n\u001b[1;32m     38\u001b[0m     fitstat2 \u001b[39m=\u001b[39m fitstat\n\u001b[0;32m---> 39\u001b[0m     pars, fitstat \u001b[39m=\u001b[39m model\u001b[39m.\u001b[39;49mfit(model\u001b[39m.\u001b[39;49mmodelsimulationfunction, input_data[input_data[\u001b[39m'\u001b[39;49m\u001b[39mid\u001b[39;49m\u001b[39m'\u001b[39;49m] \u001b[39m==\u001b[39;49m \u001b[39mid\u001b[39;49m], pars, run\u001b[39m=\u001b[39;49mrunint)\n\u001b[1;32m     40\u001b[0m     \u001b[39m# print(\", \".join(str(x) for x in pars))\u001b[39;00m\n\u001b[1;32m     41\u001b[0m     \u001b[39m# print(\" X^2 = %s\" % fitstat)\u001b[39;00m\n\u001b[1;32m     42\u001b[0m     runint \u001b[39m+\u001b[39m\u001b[39m=\u001b[39m \u001b[39m1\u001b[39m\n",
      "File \u001b[0;32m~/Desktop/FlexDDM/FlexDDM/flexddm/models/Model.py:66\u001b[0m, in \u001b[0;36mModel.fit\u001b[0;34m(self, function, data, params, run)\u001b[0m\n\u001b[1;32m     63\u001b[0m     fit \u001b[39m=\u001b[39m minimize(Model\u001b[39m.\u001b[39mmodel_function, bounds\u001b[39m=\u001b[39mbounds_var, x0\u001b[39m=\u001b[39mparams, args\u001b[39m=\u001b[39m(props,\u001b[39mself\u001b[39m\u001b[39m.\u001b[39mparam_number,\u001b[39mself\u001b[39m\u001b[39m.\u001b[39mparameter_names,function, data, bounds_var), options\u001b[39m=\u001b[39m{\u001b[39m'\u001b[39m\u001b[39mmaxiter\u001b[39m\u001b[39m'\u001b[39m: \u001b[39m1000\u001b[39m},\n\u001b[1;32m     64\u001b[0m                 method\u001b[39m=\u001b[39m\u001b[39m'\u001b[39m\u001b[39mNelder-Mead\u001b[39m\u001b[39m'\u001b[39m)\n\u001b[1;32m     65\u001b[0m \u001b[39melse\u001b[39;00m:\n\u001b[0;32m---> 66\u001b[0m     fit \u001b[39m=\u001b[39m differential_evolution(Model\u001b[39m.\u001b[39;49mmodel_function, bounds\u001b[39m=\u001b[39;49mbounds_var, x0\u001b[39m=\u001b[39;49mparams,\n\u001b[1;32m     67\u001b[0m                             args\u001b[39m=\u001b[39;49m(props,\u001b[39mself\u001b[39;49m\u001b[39m.\u001b[39;49mparam_number,\u001b[39mself\u001b[39;49m\u001b[39m.\u001b[39;49mparameter_names, function, data, bounds_var), maxiter\u001b[39m=\u001b[39;49m\u001b[39m1000\u001b[39;49m, seed\u001b[39m=\u001b[39;49m\u001b[39m10\u001b[39;49m,\n\u001b[1;32m     68\u001b[0m                             disp\u001b[39m=\u001b[39;49m\u001b[39mTrue\u001b[39;49;00m, popsize\u001b[39m=\u001b[39;49m\u001b[39m12\u001b[39;49m, polish\u001b[39m=\u001b[39;49m\u001b[39mTrue\u001b[39;49;00m, callback\u001b[39m=\u001b[39;49mprintCurrentIteration, workers\u001b[39m=\u001b[39;49m\u001b[39m-\u001b[39;49m\u001b[39m1\u001b[39;49m)\n\u001b[1;32m     69\u001b[0m     \u001b[39m# popsize = 100, maxiter = 1000\u001b[39;00m\n\u001b[1;32m     70\u001b[0m bestparams \u001b[39m=\u001b[39m fit\u001b[39m.\u001b[39mx\n",
      "File \u001b[0;32m~/anaconda3/envs/simulationenv/lib/python3.8/site-packages/scipy/optimize/_differentialevolution.py:397\u001b[0m, in \u001b[0;36mdifferential_evolution\u001b[0;34m(func, bounds, args, strategy, maxiter, popsize, tol, mutation, recombination, seed, callback, disp, polish, init, atol, updating, workers, constraints, x0, integrality, vectorized)\u001b[0m\n\u001b[1;32m    380\u001b[0m \u001b[39m# using a context manager means that any created Pool objects are\u001b[39;00m\n\u001b[1;32m    381\u001b[0m \u001b[39m# cleared up.\u001b[39;00m\n\u001b[1;32m    382\u001b[0m \u001b[39mwith\u001b[39;00m DifferentialEvolutionSolver(func, bounds, args\u001b[39m=\u001b[39margs,\n\u001b[1;32m    383\u001b[0m                                  strategy\u001b[39m=\u001b[39mstrategy,\n\u001b[1;32m    384\u001b[0m                                  maxiter\u001b[39m=\u001b[39mmaxiter,\n\u001b[0;32m   (...)\u001b[0m\n\u001b[1;32m    395\u001b[0m                                  integrality\u001b[39m=\u001b[39mintegrality,\n\u001b[1;32m    396\u001b[0m                                  vectorized\u001b[39m=\u001b[39mvectorized) \u001b[39mas\u001b[39;00m solver:\n\u001b[0;32m--> 397\u001b[0m     ret \u001b[39m=\u001b[39m solver\u001b[39m.\u001b[39;49msolve()\n\u001b[1;32m    399\u001b[0m \u001b[39mreturn\u001b[39;00m ret\n",
      "File \u001b[0;32m~/anaconda3/envs/simulationenv/lib/python3.8/site-packages/scipy/optimize/_differentialevolution.py:998\u001b[0m, in \u001b[0;36mDifferentialEvolutionSolver.solve\u001b[0;34m(self)\u001b[0m\n\u001b[1;32m    995\u001b[0m \u001b[39mfor\u001b[39;00m nit \u001b[39min\u001b[39;00m \u001b[39mrange\u001b[39m(\u001b[39m1\u001b[39m, \u001b[39mself\u001b[39m\u001b[39m.\u001b[39mmaxiter \u001b[39m+\u001b[39m \u001b[39m1\u001b[39m):\n\u001b[1;32m    996\u001b[0m     \u001b[39m# evolve the population by a generation\u001b[39;00m\n\u001b[1;32m    997\u001b[0m     \u001b[39mtry\u001b[39;00m:\n\u001b[0;32m--> 998\u001b[0m         \u001b[39mnext\u001b[39;49m(\u001b[39mself\u001b[39;49m)\n\u001b[1;32m    999\u001b[0m     \u001b[39mexcept\u001b[39;00m \u001b[39mStopIteration\u001b[39;00m:\n\u001b[1;32m   1000\u001b[0m         warning_flag \u001b[39m=\u001b[39m \u001b[39mTrue\u001b[39;00m\n",
      "File \u001b[0;32m~/anaconda3/envs/simulationenv/lib/python3.8/site-packages/scipy/optimize/_differentialevolution.py:1425\u001b[0m, in \u001b[0;36mDifferentialEvolutionSolver.__next__\u001b[0;34m(self)\u001b[0m\n\u001b[1;32m   1422\u001b[0m trial_energies \u001b[39m=\u001b[39m np\u001b[39m.\u001b[39mfull(\u001b[39mself\u001b[39m\u001b[39m.\u001b[39mnum_population_members, np\u001b[39m.\u001b[39minf)\n\u001b[1;32m   1424\u001b[0m \u001b[39m# only calculate for feasible entries\u001b[39;00m\n\u001b[0;32m-> 1425\u001b[0m trial_energies[feasible] \u001b[39m=\u001b[39m \u001b[39mself\u001b[39;49m\u001b[39m.\u001b[39;49m_calculate_population_energies(\n\u001b[1;32m   1426\u001b[0m     trial_pop[feasible])\n\u001b[1;32m   1428\u001b[0m \u001b[39m# which solutions are 'improved'?\u001b[39;00m\n\u001b[1;32m   1429\u001b[0m loc \u001b[39m=\u001b[39m [\u001b[39mself\u001b[39m\u001b[39m.\u001b[39m_accept_trial(\u001b[39m*\u001b[39mval) \u001b[39mfor\u001b[39;00m val \u001b[39min\u001b[39;00m\n\u001b[1;32m   1430\u001b[0m        \u001b[39mzip\u001b[39m(trial_energies, feasible, cv, \u001b[39mself\u001b[39m\u001b[39m.\u001b[39mpopulation_energies,\n\u001b[1;32m   1431\u001b[0m            \u001b[39mself\u001b[39m\u001b[39m.\u001b[39mfeasible, \u001b[39mself\u001b[39m\u001b[39m.\u001b[39mconstraint_violation)]\n",
      "File \u001b[0;32m~/anaconda3/envs/simulationenv/lib/python3.8/site-packages/scipy/optimize/_differentialevolution.py:1123\u001b[0m, in \u001b[0;36mDifferentialEvolutionSolver._calculate_population_energies\u001b[0;34m(self, population)\u001b[0m\n\u001b[1;32m   1120\u001b[0m parameters_pop \u001b[39m=\u001b[39m \u001b[39mself\u001b[39m\u001b[39m.\u001b[39m_scale_parameters(population)\n\u001b[1;32m   1121\u001b[0m \u001b[39mtry\u001b[39;00m:\n\u001b[1;32m   1122\u001b[0m     calc_energies \u001b[39m=\u001b[39m \u001b[39mlist\u001b[39m(\n\u001b[0;32m-> 1123\u001b[0m         \u001b[39mself\u001b[39;49m\u001b[39m.\u001b[39;49m_mapwrapper(\u001b[39mself\u001b[39;49m\u001b[39m.\u001b[39;49mfunc, parameters_pop[\u001b[39m0\u001b[39;49m:S])\n\u001b[1;32m   1124\u001b[0m     )\n\u001b[1;32m   1125\u001b[0m     calc_energies \u001b[39m=\u001b[39m np\u001b[39m.\u001b[39msqueeze(calc_energies)\n\u001b[1;32m   1126\u001b[0m \u001b[39mexcept\u001b[39;00m (\u001b[39mTypeError\u001b[39;00m, \u001b[39mValueError\u001b[39;00m) \u001b[39mas\u001b[39;00m e:\n\u001b[1;32m   1127\u001b[0m     \u001b[39m# wrong number of arguments for _mapwrapper\u001b[39;00m\n\u001b[1;32m   1128\u001b[0m     \u001b[39m# or wrong length returned from the mapper\u001b[39;00m\n",
      "File \u001b[0;32m~/anaconda3/envs/simulationenv/lib/python3.8/site-packages/scipy/_lib/_util.py:442\u001b[0m, in \u001b[0;36mMapWrapper.__call__\u001b[0;34m(self, func, iterable)\u001b[0m\n\u001b[1;32m    439\u001b[0m \u001b[39mdef\u001b[39;00m \u001b[39m__call__\u001b[39m(\u001b[39mself\u001b[39m, func, iterable):\n\u001b[1;32m    440\u001b[0m     \u001b[39m# only accept one iterable because that's all Pool.map accepts\u001b[39;00m\n\u001b[1;32m    441\u001b[0m     \u001b[39mtry\u001b[39;00m:\n\u001b[0;32m--> 442\u001b[0m         \u001b[39mreturn\u001b[39;00m \u001b[39mself\u001b[39;49m\u001b[39m.\u001b[39;49m_mapfunc(func, iterable)\n\u001b[1;32m    443\u001b[0m     \u001b[39mexcept\u001b[39;00m \u001b[39mTypeError\u001b[39;00m \u001b[39mas\u001b[39;00m e:\n\u001b[1;32m    444\u001b[0m         \u001b[39m# wrong number of arguments\u001b[39;00m\n\u001b[1;32m    445\u001b[0m         \u001b[39mraise\u001b[39;00m \u001b[39mTypeError\u001b[39;00m(\u001b[39m\"\u001b[39m\u001b[39mThe map-like callable must be of the\u001b[39m\u001b[39m\"\u001b[39m\n\u001b[1;32m    446\u001b[0m                         \u001b[39m\"\u001b[39m\u001b[39m form f(func, iterable)\u001b[39m\u001b[39m\"\u001b[39m) \u001b[39mfrom\u001b[39;00m \u001b[39me\u001b[39;00m\n",
      "File \u001b[0;32m~/anaconda3/envs/simulationenv/lib/python3.8/multiprocessing/pool.py:364\u001b[0m, in \u001b[0;36mPool.map\u001b[0;34m(self, func, iterable, chunksize)\u001b[0m\n\u001b[1;32m    359\u001b[0m \u001b[39mdef\u001b[39;00m \u001b[39mmap\u001b[39m(\u001b[39mself\u001b[39m, func, iterable, chunksize\u001b[39m=\u001b[39m\u001b[39mNone\u001b[39;00m):\n\u001b[1;32m    360\u001b[0m \u001b[39m    \u001b[39m\u001b[39m'''\u001b[39;00m\n\u001b[1;32m    361\u001b[0m \u001b[39m    Apply `func` to each element in `iterable`, collecting the results\u001b[39;00m\n\u001b[1;32m    362\u001b[0m \u001b[39m    in a list that is returned.\u001b[39;00m\n\u001b[1;32m    363\u001b[0m \u001b[39m    '''\u001b[39;00m\n\u001b[0;32m--> 364\u001b[0m     \u001b[39mreturn\u001b[39;00m \u001b[39mself\u001b[39;49m\u001b[39m.\u001b[39;49m_map_async(func, iterable, mapstar, chunksize)\u001b[39m.\u001b[39;49mget()\n",
      "File \u001b[0;32m~/anaconda3/envs/simulationenv/lib/python3.8/multiprocessing/pool.py:765\u001b[0m, in \u001b[0;36mApplyResult.get\u001b[0;34m(self, timeout)\u001b[0m\n\u001b[1;32m    764\u001b[0m \u001b[39mdef\u001b[39;00m \u001b[39mget\u001b[39m(\u001b[39mself\u001b[39m, timeout\u001b[39m=\u001b[39m\u001b[39mNone\u001b[39;00m):\n\u001b[0;32m--> 765\u001b[0m     \u001b[39mself\u001b[39;49m\u001b[39m.\u001b[39;49mwait(timeout)\n\u001b[1;32m    766\u001b[0m     \u001b[39mif\u001b[39;00m \u001b[39mnot\u001b[39;00m \u001b[39mself\u001b[39m\u001b[39m.\u001b[39mready():\n\u001b[1;32m    767\u001b[0m         \u001b[39mraise\u001b[39;00m \u001b[39mTimeoutError\u001b[39;00m\n",
      "File \u001b[0;32m~/anaconda3/envs/simulationenv/lib/python3.8/multiprocessing/pool.py:762\u001b[0m, in \u001b[0;36mApplyResult.wait\u001b[0;34m(self, timeout)\u001b[0m\n\u001b[1;32m    761\u001b[0m \u001b[39mdef\u001b[39;00m \u001b[39mwait\u001b[39m(\u001b[39mself\u001b[39m, timeout\u001b[39m=\u001b[39m\u001b[39mNone\u001b[39;00m):\n\u001b[0;32m--> 762\u001b[0m     \u001b[39mself\u001b[39;49m\u001b[39m.\u001b[39;49m_event\u001b[39m.\u001b[39;49mwait(timeout)\n",
      "File \u001b[0;32m~/anaconda3/envs/simulationenv/lib/python3.8/threading.py:558\u001b[0m, in \u001b[0;36mEvent.wait\u001b[0;34m(self, timeout)\u001b[0m\n\u001b[1;32m    556\u001b[0m signaled \u001b[39m=\u001b[39m \u001b[39mself\u001b[39m\u001b[39m.\u001b[39m_flag\n\u001b[1;32m    557\u001b[0m \u001b[39mif\u001b[39;00m \u001b[39mnot\u001b[39;00m signaled:\n\u001b[0;32m--> 558\u001b[0m     signaled \u001b[39m=\u001b[39m \u001b[39mself\u001b[39;49m\u001b[39m.\u001b[39;49m_cond\u001b[39m.\u001b[39;49mwait(timeout)\n\u001b[1;32m    559\u001b[0m \u001b[39mreturn\u001b[39;00m signaled\n",
      "File \u001b[0;32m~/anaconda3/envs/simulationenv/lib/python3.8/threading.py:302\u001b[0m, in \u001b[0;36mCondition.wait\u001b[0;34m(self, timeout)\u001b[0m\n\u001b[1;32m    300\u001b[0m \u001b[39mtry\u001b[39;00m:    \u001b[39m# restore state no matter what (e.g., KeyboardInterrupt)\u001b[39;00m\n\u001b[1;32m    301\u001b[0m     \u001b[39mif\u001b[39;00m timeout \u001b[39mis\u001b[39;00m \u001b[39mNone\u001b[39;00m:\n\u001b[0;32m--> 302\u001b[0m         waiter\u001b[39m.\u001b[39;49macquire()\n\u001b[1;32m    303\u001b[0m         gotit \u001b[39m=\u001b[39m \u001b[39mTrue\u001b[39;00m\n\u001b[1;32m    304\u001b[0m     \u001b[39melse\u001b[39;00m:\n",
      "\u001b[0;31mKeyboardInterrupt\u001b[0m: "
     ]
    }
   ],
   "source": [
    "dstpit = DSTPit()\n",
    "dstp = DSTP()\n",
    "mdstp = mDSTP()\n",
    "sspit = SSPit()\n",
    "msspit = mSSPit()\n",
    "ssp = SSP()\n",
    "mssp = mSSP()\n",
    "dmcfs = DMCfs()\n",
    "mdmcfs = mDMCfs()\n",
    "dmc = DMC()\n",
    "mdmc = mDMC()\n",
    "main.fit([dmc], input_data='flexddm/data/hedge2019.csv', posterior_predictive_check=False)\n",
    "# main.fit([dmc, dmcfs, mdstp, mssp, msspit, mdmc, mdmcfs], 1, 112, input_data='flexddm/data/hedge2019.csv', posterior_predictive_check=False)"
   ]
  },
  {
   "cell_type": "code",
   "execution_count": null,
   "metadata": {},
   "outputs": [],
   "source": [
    "main.validation([dmc, dmcfs, mdstp, mssp, msspit, mdmc, mdmcfs], model_recovery=False)"
   ]
  },
  {
   "cell_type": "code",
   "execution_count": null,
   "metadata": {},
   "outputs": [],
   "source": [
    "data_sspit = pd.read_csv('SSPit_output.csv')\n",
    "data_msspit = pd.read_csv('mSSPit_output.csv')\n",
    "\n",
    "data_dmc = pd.read_csv('DMC_output.csv')\n",
    "data_mdmc = pd.read_csv('mDMC_output.csv')"
   ]
  },
  {
   "cell_type": "code",
   "execution_count": null,
   "metadata": {},
   "outputs": [],
   "source": [
    "from scipy.stats import ttest_rel\n",
    "import seaborn as sns\n",
    "import matplotlib.pyplot as plt\n",
    "snsdf = pd.DataFrame({'bic': list(data_sspit['bic']) + list(data_msspit['bic']), 'X^2': list(data_sspit['X^2']) + list(data_msspit['X^2']), 'model': ['SSPit']*50 + ['mSSPit']*50})\n",
    "\n",
    "var = 'X^2'\n",
    "\n",
    "sns.pointplot(data=snsdf, x='model', y=var, errorbar='se')\n",
    "plt.show()\n",
    "\n",
    "print(ttest_rel(data_sspit[var], data_msspit[var]))\n",
    "\n",
    "print(np.mean(data_sspit[var] - data_msspit[var]))\n",
    "print(np.std(data_sspit[var] - data_msspit[var]))\n"
   ]
  },
  {
   "cell_type": "code",
   "execution_count": null,
   "metadata": {},
   "outputs": [],
   "source": [
    "from scipy.stats import ttest_rel\n",
    "import seaborn as sns\n",
    "import matplotlib.pyplot as plt\n",
    "snsdf = pd.DataFrame({'bic': list(data_dmc['bic']) + list(data_mdmc['bic']), 'X^2': list(data_dmc['X^2']) + list(data_mdmc['X^2']), 'model': ['DMC']*50 + ['mDMC']*50})\n",
    "\n",
    "var = 'bic'\n",
    "\n",
    "sns.pointplot(data=snsdf, x='model', y=var, errorbar='se')\n",
    "plt.show()\n",
    "\n",
    "print(ttest_rel(data_dmc[var], data_mdmc[var]))\n",
    "\n",
    "print(np.mean(data_dmc[var] - data_mdmc[var]))\n",
    "print(np.std(data_dmc[var] - data_mdmc[var]))\n"
   ]
  },
  {
   "cell_type": "code",
   "execution_count": null,
   "metadata": {},
   "outputs": [],
   "source": [
    "name = 'vonbastian'\n",
    "data = pd.read_csv('%s.csv' % name)\n",
    "data = data[data['Condition']!=1].reset_index()\n",
    "newconds = [1 if x==0 else 2 for x in data['Condition']]\n",
    "data['Condition'] = newconds\n",
    "data.to_csv('%s_Clean.csv' % name, index=False)"
   ]
  },
  {
   "cell_type": "code",
   "execution_count": null,
   "metadata": {},
   "outputs": [],
   "source": [
    "data = pd.read_csv('%s_Clean.csv' % name)\n",
    "data['PPT'] = 1\n",
    "data.to_csv('%s_Clean_Whole.csv' % name, index=False)"
   ]
  },
  {
   "cell_type": "code",
   "execution_count": null,
   "metadata": {},
   "outputs": [],
   "source": [
    "data = pd.read_csv('reymermet.csv')\n",
    "data['PPT'] = 1\n",
    "data.to_csv('reymermet_Whole.csv', index=False)"
   ]
  },
  {
   "cell_type": "code",
   "execution_count": null,
   "metadata": {},
   "outputs": [],
   "source": [
    "data = pd.read_csv('flankerData.txt', delimiter='\\t')\n",
    "data['PPT'] = data['Subject']\n",
    "newconds = [1 if x=='comp' else 2 for x in data['Comp']]\n",
    "data['Condition'] = newconds\n",
    "data['RT'] = [x/1000 for x in data['RT']]\n",
    "data['Correct'] = [abs(x-1) for x in data['Error']]\n",
    "data = data[['PPT', 'Condition', 'RT', 'Correct']]\n",
    "data.to_csv('ulrich2015.csv', index=False)\n",
    "# data['PPT'] = 1\n",
    "# data.to_csv('ulrich2015_Whole.csv', index=False)"
   ]
  }
 ],
 "metadata": {
  "kernelspec": {
   "display_name": "Python 3.8.3 ('simulationenv')",
   "language": "python",
   "name": "python3"
  },
  "language_info": {
   "codemirror_mode": {
    "name": "ipython",
    "version": 3
   },
   "file_extension": ".py",
   "mimetype": "text/x-python",
   "name": "python",
   "nbconvert_exporter": "python",
   "pygments_lexer": "ipython3",
   "version": "3.8.3"
  },
  "vscode": {
   "interpreter": {
    "hash": "997e78766c1d3f62d22de82252db3ce82bc27ac1ddc46c523e05bd0361ced723"
   }
  }
 },
 "nbformat": 4,
 "nbformat_minor": 2
}
