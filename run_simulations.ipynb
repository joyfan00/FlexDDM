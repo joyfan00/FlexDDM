{
 "cells": [
  {
   "cell_type": "code",
   "execution_count": 1,
   "metadata": {},
   "outputs": [],
   "source": [
    "from models import DSTP, SSP, DMC, StandardDDM\n",
    "import multiprocessing.pool as mpp\n",
    "import sys\n",
    "import json\n",
    "import pandas as pd\n",
    "import numpy as np\n",
    "import numba as nb"
   ]
  },
  {
   "cell_type": "code",
   "execution_count": null,
   "metadata": {},
   "outputs": [],
   "source": [
    "#DSTP\n",
    "dstp = DSTP()\n",
    "pars = [10, 0.5, 0, 10, 0.5, 0, 0, 0, 0.01]\n",
    "dstp.runSimulations(pars, 1, 2, DSTP.model_simulation, fileName='output_dstp.csv')"
   ]
  },
  {
   "cell_type": "code",
   "execution_count": null,
   "metadata": {},
   "outputs": [],
   "source": [
    "#SSP\n",
    "ssp = SSP()\n",
    "pars = [10, 0.5, 0.5, 5, 50, 0]\n",
    "ssp.runSimulations(pars, 1, 3, SSP.model_simulation, fileName='output_ssp.csv')"
   ]
  },
  {
   "cell_type": "code",
   "execution_count": null,
   "metadata": {},
   "outputs": [],
   "source": [
    "#DMC\n",
    "dmc = DMC()\n",
    "pars = [10, 0.5, 0, 5, 5, 0.5, 0.01]\n",
    "dmc.runSimulations(pars, 1, 5, DMC.model_simulation, fileName='output_dmc.csv')"
   ]
  },
  {
   "cell_type": "code",
   "execution_count": null,
   "metadata": {},
   "outputs": [],
   "source": [
    "#StandardDDM\n",
    "standardddm = StandardDDM()\n",
    "pars = [10, 10, 0.5, 0, 0, 0]\n",
    "standardddm.runSimulations(pars, 1, 5, StandardDDM.model_simulation, fileName='output_ddm.csv')"
   ]
  }
 ],
 "metadata": {
  "kernelspec": {
   "display_name": "simulationenv",
   "language": "python",
   "name": "python3"
  },
  "language_info": {
   "codemirror_mode": {
    "name": "ipython",
    "version": 3
   },
   "file_extension": ".py",
   "mimetype": "text/x-python",
   "name": "python",
   "nbconvert_exporter": "python",
   "pygments_lexer": "ipython3",
   "version": "3.11.4"
  }
 },
 "nbformat": 4,
 "nbformat_minor": 2
}
