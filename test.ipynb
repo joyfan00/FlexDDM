{
 "cells": [
  {
   "cell_type": "code",
   "execution_count": 6,
   "metadata": {},
   "outputs": [
    {
     "data": {
      "text/plain": [
       "Index(['index', 0, 'count'], dtype='object')"
      ]
     },
     "execution_count": 6,
     "metadata": {},
     "output_type": "execute_result"
    }
   ],
   "source": [
    "import pandas as pd\n",
    "# Example DataFrame\n",
    "BIC_df = pd.DataFrame({\n",
    "    'Model1': [10, 15, 20],\n",
    "    'Model2': [8, 12, 18],\n",
    "    'Model3': [9, 14, 19]\n",
    "})\n",
    "\n",
    "BIC_df1 = pd.DataFrame({\n",
    "    'Model1': [5, 15, 3],\n",
    "    'Model2': [8, 12, 18],\n",
    "    'Model3': [9, 14, 19]\n",
    "})\n",
    "\n",
    "BIC_mins = [BIC_df, BIC_df1]\n",
    "# Get the index (column name) where the minimum value occurs for each row\n",
    "BIC_mins = BIC_df.idxmin(axis=1).reset_index()\n",
    "BIC_mins = BIC_mins.value_counts().reset_index()\n",
    "BIC_mins.columns"
   ]
  },
  {
   "cell_type": "code",
   "execution_count": 7,
   "metadata": {},
   "outputs": [
    {
     "data": {
      "text/plain": [
       "0    1\n",
       "1    1\n",
       "2    1\n",
       "Name: count, dtype: int64"
      ]
     },
     "execution_count": 7,
     "metadata": {},
     "output_type": "execute_result"
    }
   ],
   "source": [
    "BIC_mins['count']"
   ]
  },
  {
   "cell_type": "code",
   "execution_count": 8,
   "metadata": {},
   "outputs": [
    {
     "data": {
      "text/plain": [
       "[0    0.2\n",
       " 1    0.2\n",
       " 2    0.2\n",
       " Name: count, dtype: float64]"
      ]
     },
     "execution_count": 8,
     "metadata": {},
     "output_type": "execute_result"
    }
   ],
   "source": [
    "probabilities = []\n",
    "probabilities.append(BIC_mins['count']/5)\n",
    "probabilities"
   ]
  },
  {
   "cell_type": "code",
   "execution_count": 22,
   "metadata": {},
   "outputs": [
    {
     "data": {
      "image/png": "[encoded data removed]",
      "text/plain": [
       "<Figure size 640x480 with 2 Axes>"
      ]
     },
     "metadata": {},
     "output_type": "display_data"
    }
   ],
   "source": [
    "import seaborn as sns\n",
    "import matplotlib.pyplot as plt\n",
    "\n",
    "# Sample data (2D array)\n",
    "data = [\n",
    "    [1, 2, 3],\n",
    "    [4, 5, 6],\n",
    "    [7, 8, 9]\n",
    "]\n",
    "\n",
    "# Create a heatmap using seaborn\n",
    "heatmap = sns.heatmap(data, cmap='coolwarm', annot=True, fmt=\".1f\", linewidths=.5)\n",
    "\n",
    "# Set labels and title\n",
    "plt.ylabel('Y Axis Label')\n",
    "plt.title('Heatmap Example')\n",
    "\n",
    "# Set x-axis ticks to top\n",
    "plt.tick_params(axis='x', top=True, bottom=False, labelbottom=False, labeltop=True)\n",
    "\n",
    "# Set x-axis label\n",
    "plt.xlabel('X Axis Label', fontsize=12, labelpad=20)\n",
    "\n",
    "# Show the plot\n",
    "plt.show()\n",
    "\n",
    "figure = heatmap.get_figure()    \n",
    "figure.savefig('svm_conf.png', dpi=400)\n",
    "\n"
   ]
  },
  {
   "cell_type": "code",
   "execution_count": 21,
   "metadata": {},
   "outputs": [
    {
     "ename": "TypeError",
     "evalue": "DataFrame.pivot() takes 1 positional argument but 4 were given",
     "output_type": "error",
     "traceback": [
      "\u001b[1;31m---------------------------------------------------------------------------\u001b[0m",
      "\u001b[1;31mTypeError\u001b[0m                                 Traceback (most recent call last)",
      "Cell \u001b[1;32mIn[21], line 6\u001b[0m\n\u001b[0;32m      4\u001b[0m \u001b[38;5;66;03m# Generate a sample heatmap (replace this with your own data)\u001b[39;00m\n\u001b[0;32m      5\u001b[0m data \u001b[38;5;241m=\u001b[39m sns\u001b[38;5;241m.\u001b[39mload_dataset(\u001b[38;5;124m\"\u001b[39m\u001b[38;5;124mflights\u001b[39m\u001b[38;5;124m\"\u001b[39m)\n\u001b[1;32m----> 6\u001b[0m flights \u001b[38;5;241m=\u001b[39m \u001b[43mdata\u001b[49m\u001b[38;5;241;43m.\u001b[39;49m\u001b[43mpivot\u001b[49m\u001b[43m(\u001b[49m\u001b[38;5;124;43m\"\u001b[39;49m\u001b[38;5;124;43mmonth\u001b[39;49m\u001b[38;5;124;43m\"\u001b[39;49m\u001b[43m,\u001b[49m\u001b[43m \u001b[49m\u001b[38;5;124;43m\"\u001b[39;49m\u001b[38;5;124;43myear\u001b[39;49m\u001b[38;5;124;43m\"\u001b[39;49m\u001b[43m,\u001b[49m\u001b[43m \u001b[49m\u001b[38;5;124;43m\"\u001b[39;49m\u001b[38;5;124;43mpassengers\u001b[39;49m\u001b[38;5;124;43m\"\u001b[39;49m\u001b[43m)\u001b[49m\n\u001b[0;32m      8\u001b[0m \u001b[38;5;66;03m# Create the heatmap using Seaborn\u001b[39;00m\n\u001b[0;32m      9\u001b[0m sns\u001b[38;5;241m.\u001b[39mheatmap(flights, annot\u001b[38;5;241m=\u001b[39m\u001b[38;5;28;01mTrue\u001b[39;00m, fmt\u001b[38;5;241m=\u001b[39m\u001b[38;5;124m\"\u001b[39m\u001b[38;5;124md\u001b[39m\u001b[38;5;124m\"\u001b[39m)\n",
      "\u001b[1;31mTypeError\u001b[0m: DataFrame.pivot() takes 1 positional argument but 4 were given"
     ]
    }
   ],
   "source": [
    "import seaborn as sns\n",
    "import matplotlib.pyplot as plt\n",
    "\n",
    "# Generate a sample heatmap (replace this with your own data)\n",
    "data = sns.load_dataset(\"flights\")\n",
    "flights = data.pivot(\"month\", \"year\", \"passengers\")\n",
    "\n",
    "# Create the heatmap using Seaborn\n",
    "sns.heatmap(flights, annot=True, fmt=\"d\")\n",
    "\n",
    "# Save the heatmap to a file (e.g., PNG, PDF, etc.)\n",
    "plt.savefig(\"heatmap.png\")  # Change the file extension as needed\n"
   ]
  }
 ],
 "metadata": {
  "kernelspec": {
   "display_name": "simulationenv",
   "language": "python",
   "name": "python3"
  },
  "language_info": {
   "codemirror_mode": {
    "name": "ipython",
    "version": 3
   },
   "file_extension": ".py",
   "mimetype": "text/x-python",
   "name": "python",
   "nbconvert_exporter": "python",
   "pygments_lexer": "ipython3",
   "version": "3.11.4"
  }
 },
 "nbformat": 4,
 "nbformat_minor": 2
}
