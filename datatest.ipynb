{
 "cells": [
  {
   "cell_type": "code",
   "execution_count": 1,
   "metadata": {},
   "outputs": [
    {
     "ename": "NameError",
     "evalue": "name 'self' is not defined",
     "output_type": "error",
     "traceback": [
      "\u001b[0;31m---------------------------------------------------------------------------\u001b[0m",
      "\u001b[0;31mNameError\u001b[0m                                 Traceback (most recent call last)",
      "Cell \u001b[0;32mIn[1], line 1\u001b[0m\n\u001b[0;32m----> 1\u001b[0m \u001b[39mfrom\u001b[39;00m \u001b[39mModel\u001b[39;00m \u001b[39mimport\u001b[39;00m Model\n\u001b[1;32m      2\u001b[0m \u001b[39mfrom\u001b[39;00m \u001b[39mSSP\u001b[39;00m \u001b[39mimport\u001b[39;00m SSP\n\u001b[1;32m      3\u001b[0m \u001b[39mfrom\u001b[39;00m \u001b[39mDMC\u001b[39;00m \u001b[39mimport\u001b[39;00m DMC\n",
      "File \u001b[0;32m~/Documents/GitHub/SimulationPackage/Model.py:9\u001b[0m\n\u001b[1;32m      6\u001b[0m \u001b[39mimport\u001b[39;00m \u001b[39mmath\u001b[39;00m\n\u001b[1;32m      8\u001b[0m \u001b[39mfrom\u001b[39;00m \u001b[39mmultiprocessing\u001b[39;00m\u001b[39m.\u001b[39;00m\u001b[39mpool\u001b[39;00m \u001b[39mimport\u001b[39;00m Pool\n\u001b[0;32m----> 9\u001b[0m \u001b[39mfrom\u001b[39;00m \u001b[39mvariables\u001b[39;00m \u001b[39mimport\u001b[39;00m Variables\n\u001b[1;32m     10\u001b[0m \u001b[39m# import tqdm\u001b[39;00m\n\u001b[1;32m     11\u001b[0m \u001b[39mfrom\u001b[39;00m \u001b[39mscipy\u001b[39;00m\u001b[39m.\u001b[39;00m\u001b[39moptimize\u001b[39;00m \u001b[39mimport\u001b[39;00m minimize\n",
      "File \u001b[0;32m~/Documents/GitHub/SimulationPackage/variables.py:8\u001b[0m\n\u001b[1;32m      5\u001b[0m \u001b[39mimport\u001b[39;00m \u001b[39mnumpy\u001b[39;00m \u001b[39mas\u001b[39;00m \u001b[39mnp\u001b[39;00m\n\u001b[1;32m      7\u001b[0m \u001b[39m# static variables \u001b[39;00m\n\u001b[0;32m----> 8\u001b[0m \u001b[39mclass\u001b[39;00m \u001b[39mVariables\u001b[39;00m:\n\u001b[1;32m      9\u001b[0m \n\u001b[1;32m     10\u001b[0m     \u001b[39m#Have all of these as arguments to the one function the user runs and provide defaults\u001b[39;00m\n\u001b[1;32m     11\u001b[0m     DATA_FILE \u001b[39m=\u001b[39m \u001b[39m'\u001b[39m\u001b[39mflanker.json\u001b[39m\u001b[39m'\u001b[39m\n\u001b[1;32m     12\u001b[0m     QUANTILES_CDF \u001b[39m=\u001b[39m [\u001b[39m0.1\u001b[39m, \u001b[39m0.3\u001b[39m, \u001b[39m0.5\u001b[39m, \u001b[39m0.7\u001b[39m, \u001b[39m0.9\u001b[39m]\n",
      "File \u001b[0;32m~/Documents/GitHub/SimulationPackage/variables.py:32\u001b[0m, in \u001b[0;36mVariables\u001b[0;34m()\u001b[0m\n\u001b[1;32m     29\u001b[0m     data[\u001b[39m'\u001b[39m\u001b[39mcongruency\u001b[39m\u001b[39m'\u001b[39m] \u001b[39m=\u001b[39m [\u001b[39m'\u001b[39m\u001b[39mcongruent\u001b[39m\u001b[39m'\u001b[39m \u001b[39mif\u001b[39;00m x \u001b[39m==\u001b[39m \u001b[39m1\u001b[39m \u001b[39melse\u001b[39;00m \u001b[39m'\u001b[39m\u001b[39mincongruent\u001b[39m\u001b[39m'\u001b[39m \u001b[39mfor\u001b[39;00m x \u001b[39min\u001b[39;00m data[\u001b[39m'\u001b[39m\u001b[39mcongruency\u001b[39m\u001b[39m'\u001b[39m]]\n\u001b[1;32m     30\u001b[0m     \u001b[39mreturn\u001b[39;00m data\n\u001b[0;32m---> 32\u001b[0m DATA \u001b[39m=\u001b[39m \u001b[39mself\u001b[39;49m\u001b[39m.\u001b[39mgetRTData()\n\u001b[1;32m     33\u001b[0m BOUNDS \u001b[39m=\u001b[39m [(\u001b[39m0\u001b[39m,\u001b[39m1\u001b[39m),(\u001b[39m0\u001b[39m,\u001b[39m1\u001b[39m),(\u001b[39m1\u001b[39m,\u001b[39m20\u001b[39m),(\u001b[39m0\u001b[39m,\u001b[39m10\u001b[39m),(\u001b[39m0\u001b[39m,\u001b[39m10\u001b[39m),(\u001b[39m0\u001b[39m,\u001b[39m1\u001b[39m),(\u001b[39m0\u001b[39m,\u001b[39mmin\u001b[39m(DATA[\u001b[39m'\u001b[39m\u001b[39mrt\u001b[39m\u001b[39m'\u001b[39m]))]\n",
      "\u001b[0;31mNameError\u001b[0m: name 'self' is not defined"
     ]
    }
   ],
   "source": [
    "from Model import Model\n",
    "from SSP import SSP\n",
    "from DMC import DMC\n",
    "from DSTP import DSTP\n",
    "import multiprocessing.pool as mpp\n",
    "import sys\n",
    "\n",
    "import json\n",
    "import pandas as pd\n",
    "import numpy as np\n",
    "from variables import Variables\n",
    "# from file_input import *\n",
    "\n",
    "\n",
    "\n"
   ]
  },
  {
   "cell_type": "code",
   "execution_count": null,
   "metadata": {},
   "outputs": [],
   "source": [
    "data = Variables.getRTData()\n",
    "print(\"hi\")\n",
    "print(data)\n"
   ]
  },
  {
   "cell_type": "code",
   "execution_count": null,
   "metadata": {},
   "outputs": [],
   "source": [
    "import fit.py\n"
   ]
  },
  {
   "cell_type": "code",
   "execution_count": null,
   "metadata": {},
   "outputs": [],
   "source": [
    "jobs=[]\n",
    "results = []\n",
    "\n",
    "parameters = {\"alpha\": 2, \"beta\": 3}\n",
    "dt = .1\n",
    "var = .01\n",
    "nTrials = 1000\n",
    "bins = 4\n",
    "\n",
    "# Create a list that contains all of the parameter values (input params + how many trials should go in each bin)\n",
    "# Each extending model class has default dt, var, nTrial, and noiseSeed values for their model_simulation() \n",
    "values_list = [list(parameters.values())]\n",
    "\n",
    "values_list.append(dt)\n",
    "values_list.append(var)\n",
    "values_list.append(int(nTrials/bins))\n",
    "print(values_list)\n",
    "\n",
    "## preferably have dt, var, etc be defined by user in the beginning in the one file they run. only have default values for the fn the user is \n",
    "# using, not within the methods themselves\n",
    "\n",
    "#remove defaults from extending model classes for dt var etc, and add them to tuple here\n",
    "\n",
    "# Turn the params list into a tuple\n",
    "values_tuple = tuple(values_list)\n",
    "print(values_tuple)"
   ]
  },
  {
   "cell_type": "code",
   "execution_count": null,
   "metadata": {},
   "outputs": [],
   "source": [
    "import math\n",
    "shape = 2\n",
    "characteristic_time = 0.5\n",
    "peak_amplitude = 0.5\n",
    "automatic_time = 0.5\n",
    "mu_c = 0.5\n",
    "print((-peak_amplitude * math.exp(-(automatic_time / characteristic_time)) * math.pow(((automatic_time * math.exp(1)) / ((shape - 1) * characteristic_time)), (shape - 1)) * (((shape - 1) / automatic_time) - (1 / characteristic_time))) + mu_c)"
   ]
  },
  {
   "cell_type": "code",
   "execution_count": null,
   "metadata": {},
   "outputs": [],
   "source": [
    "math.pow(-.5, -.5)"
   ]
  },
  {
   "cell_type": "code",
   "execution_count": null,
   "metadata": {},
   "outputs": [],
   "source": [
    "(-.5)**(-.5)"
   ]
  },
  {
   "cell_type": "markdown",
   "metadata": {},
   "source": [
    "goal is to import a function that uses fit.py as a dependency"
   ]
  }
 ],
 "metadata": {
  "kernelspec": {
   "display_name": "Python 3.11.4 ('simulationenv')",
   "language": "python",
   "name": "python3"
  },
  "language_info": {
   "codemirror_mode": {
    "name": "ipython",
    "version": 3
   },
   "file_extension": ".py",
   "mimetype": "text/x-python",
   "name": "python",
   "nbconvert_exporter": "python",
   "pygments_lexer": "ipython3",
   "version": "3.8.3"
  },
  "orig_nbformat": 4,
  "vscode": {
   "interpreter": {
    "hash": "997e78766c1d3f62d22de82252db3ce82bc27ac1ddc46c523e05bd0361ced723"
   }
  }
 },
 "nbformat": 4,
 "nbformat_minor": 2
}
