{
 "cells": [
  {
   "cell_type": "code",
   "execution_count": 1,
   "metadata": {},
   "outputs": [],
   "source": [
    "from Model import Model\n",
    "from SSP import SSP\n",
    "from DMC import DMC\n",
    "from DSTP import DSTP\n",
    "import multiprocessing.pool as mpp\n",
    "import sys\n",
    "import json\n",
    "import pandas as pd\n",
    "import numpy as np\n",
    "from variables import Variables\n",
    "from file_input import *\n",
    "\n"
   ]
  },
  {
   "cell_type": "code",
   "execution_count": 2,
   "metadata": {},
   "outputs": [
    {
     "name": "stdout",
     "output_type": "stream",
     "text": [
      "hi\n",
      "       id   congruency        rt  accuracy\n",
      "0       1    congruent  1.914860         1\n",
      "1       1    congruent  1.034891         1\n",
      "2       1  incongruent  2.330960         1\n",
      "3       1    congruent  2.607167         1\n",
      "4       1  incongruent  1.632532         1\n",
      "...   ...          ...       ...       ...\n",
      "3365  109    congruent  2.254164         1\n",
      "3366  109  incongruent  1.194399         0\n",
      "3367  109    congruent  1.713078         1\n",
      "3368  109    congruent  1.040634         1\n",
      "3369  109  incongruent  1.236208         1\n",
      "\n",
      "[3370 rows x 4 columns]\n"
     ]
    }
   ],
   "source": [
    "data = getRTData()\n",
    "print(\"hi\")\n",
    "print(data)\n"
   ]
  },
  {
   "cell_type": "code",
   "execution_count": 3,
   "metadata": {},
   "outputs": [
    {
     "name": "stdout",
     "output_type": "stream",
     "text": [
      "36\n",
      "Model fitting ID 36\n",
      "run 1\n",
      "hi\n",
      "{'alpha': 0.5, 'beta': 0.5, 'p': 0.5, 'sd_0': 0.5, 'sd_r': 0.5, 'tau': 0.5}\n",
      "[0.5, 0.5, 0.5, 0.5, 0.5, 0.5]\n",
      "(0.5, 0.5, 0.5, 0.5, 0.5, 0.5)\n",
      "1 (0.5, 0.5, 0.5, 0.5, 0.5, 0.5, 0)\n",
      "1 (0.5, 0.5, 0.5, 0.5, 0.5, 0.5, 1)\n",
      "1 (0.5, 0.5, 0.5, 0.5, 0.5, 0.5, 2)\n",
      "1 (0.5, 0.5, 0.5, 0.5, 0.5, 0.5, 3)\n"
     ]
    },
    {
     "ename": "TypeError",
     "evalue": "model_simulation() takes 2 positional arguments but 8 were given",
     "output_type": "error",
     "traceback": [
      "\u001b[0;31m---------------------------------------------------------------------------\u001b[0m",
      "\u001b[0;31mRemoteTraceback\u001b[0m                           Traceback (most recent call last)",
      "\u001b[0;31mRemoteTraceback\u001b[0m: \n\"\"\"\nTraceback (most recent call last):\n  File \"/Users/alipuccio/anaconda3/envs/simulationenv/lib/python3.8/multiprocessing/pool.py\", line 125, in worker\n    result = (True, func(*args, **kwds))\n  File \"/Users/alipuccio/anaconda3/envs/simulationenv/lib/python3.8/multiprocessing/pool.py\", line 51, in starmapstar\n    return list(itertools.starmap(args[0], args[1]))\nTypeError: model_simulation() takes 2 positional arguments but 8 were given\n\"\"\"",
      "\nThe above exception was the direct cause of the following exception:\n",
      "\u001b[0;31mTypeError\u001b[0m                                 Traceback (most recent call last)",
      "Cell \u001b[0;32mIn[3], line 1\u001b[0m\n\u001b[0;32m----> 1\u001b[0m \u001b[39mimport\u001b[39;00m \u001b[39mfit\u001b[39;00m\u001b[39m.\u001b[39;00m\u001b[39mpy\u001b[39;00m\n",
      "File \u001b[0;32m~/Documents/GitHub/SimulationPackage/fit.py:61\u001b[0m\n\u001b[1;32m     59\u001b[0m \u001b[39mprint\u001b[39m(\u001b[39m'\u001b[39m\u001b[39mrun \u001b[39m\u001b[39m%s\u001b[39;00m\u001b[39m'\u001b[39m \u001b[39m%\u001b[39m runint)\n\u001b[1;32m     60\u001b[0m fitstat2 \u001b[39m=\u001b[39m fitstat\n\u001b[0;32m---> 61\u001b[0m pars, fitstat \u001b[39m=\u001b[39m shrinking_spotlight\u001b[39m.\u001b[39;49mfit(shrinking_spotlight\u001b[39m.\u001b[39;49mdata[shrinking_spotlight\u001b[39m.\u001b[39;49mdata[\u001b[39m'\u001b[39;49m\u001b[39mid\u001b[39;49m\u001b[39m'\u001b[39;49m]\u001b[39m==\u001b[39;49ms], pars, run\u001b[39m=\u001b[39;49mrunint)\n\u001b[1;32m     62\u001b[0m \u001b[39mprint\u001b[39m(\u001b[39m\"\u001b[39m\u001b[39m, \u001b[39m\u001b[39m\"\u001b[39m\u001b[39m.\u001b[39mjoin(\u001b[39mstr\u001b[39m(x) \u001b[39mfor\u001b[39;00m x \u001b[39min\u001b[39;00m pars))\n\u001b[1;32m     63\u001b[0m \u001b[39mprint\u001b[39m(\u001b[39m\"\u001b[39m\u001b[39m X^2 = \u001b[39m\u001b[39m%s\u001b[39;00m\u001b[39m\"\u001b[39m \u001b[39m%\u001b[39m fitstat)\n",
      "File \u001b[0;32m~/Documents/GitHub/SimulationPackage/Model.py:181\u001b[0m, in \u001b[0;36mModel.fit\u001b[0;34m(self, data, params, run)\u001b[0m\n\u001b[1;32m    179\u001b[0m props \u001b[39m=\u001b[39m \u001b[39mself\u001b[39m\u001b[39m.\u001b[39mproportions(data, Variables\u001b[39m.\u001b[39mQUANTILES_CDF, Variables\u001b[39m.\u001b[39mQUANTILES_CAF)\n\u001b[1;32m    180\u001b[0m bounds_var \u001b[39m=\u001b[39m \u001b[39mself\u001b[39m\u001b[39m.\u001b[39mbounds\n\u001b[0;32m--> 181\u001b[0m predictions \u001b[39m=\u001b[39m \u001b[39mself\u001b[39;49m\u001b[39m.\u001b[39;49mmodel_predict(params, props)\n\u001b[1;32m    182\u001b[0m \u001b[39mif\u001b[39;00m run \u001b[39m!=\u001b[39m \u001b[39m1\u001b[39m:\n\u001b[1;32m    183\u001b[0m     fit \u001b[39m=\u001b[39m minimize(Model\u001b[39m.\u001b[39mmodel_function, x0\u001b[39m=\u001b[39mparams, args\u001b[39m=\u001b[39m(props,predictions), options\u001b[39m=\u001b[39m{\u001b[39m'\u001b[39m\u001b[39mmaxiter\u001b[39m\u001b[39m'\u001b[39m: \u001b[39m100\u001b[39m},\n\u001b[1;32m    184\u001b[0m                 method\u001b[39m=\u001b[39m\u001b[39m'\u001b[39m\u001b[39mNelder-Mead\u001b[39m\u001b[39m'\u001b[39m)\n",
      "File \u001b[0;32m~/Documents/GitHub/SimulationPackage/Model.py:440\u001b[0m, in \u001b[0;36mModel.model_predict\u001b[0;34m(self, params, props)\u001b[0m\n\u001b[1;32m    438\u001b[0m \u001b[39mprint\u001b[39m(\u001b[39m'\u001b[39m\u001b[39mhi\u001b[39m\u001b[39m'\u001b[39m)\n\u001b[1;32m    439\u001b[0m \u001b[39mprint\u001b[39m(params)\n\u001b[0;32m--> 440\u001b[0m sim_data \u001b[39m=\u001b[39m \u001b[39mself\u001b[39;49m\u001b[39m.\u001b[39;49mparallel_sim(\u001b[39mself\u001b[39;49m\u001b[39m.\u001b[39;49mmodel_simulation, params)\n\u001b[1;32m    442\u001b[0m sim_data_congruent \u001b[39m=\u001b[39m sim_data[sim_data[\u001b[39m'\u001b[39m\u001b[39mcongruency\u001b[39m\u001b[39m'\u001b[39m]\u001b[39m==\u001b[39m\u001b[39m'\u001b[39m\u001b[39mcongruent\u001b[39m\u001b[39m'\u001b[39m]\n\u001b[1;32m    443\u001b[0m sim_data_incongruent \u001b[39m=\u001b[39m sim_data[sim_data[\u001b[39m'\u001b[39m\u001b[39mcongruency\u001b[39m\u001b[39m'\u001b[39m]\u001b[39m==\u001b[39m\u001b[39m'\u001b[39m\u001b[39mincongruent\u001b[39m\u001b[39m'\u001b[39m]\n",
      "File \u001b[0;32m~/Documents/GitHub/SimulationPackage/Model.py:301\u001b[0m, in \u001b[0;36mModel.parallel_sim\u001b[0;34m(self, function, parameters)\u001b[0m\n\u001b[1;32m    297\u001b[0m     \u001b[39mprint\u001b[39m(\u001b[39m\"\u001b[39m\u001b[39m1 \u001b[39m\u001b[39m\"\u001b[39m \u001b[39m+\u001b[39m \u001b[39mstr\u001b[39m(jobs[x]))\n\u001b[1;32m    299\u001b[0m \u001b[39mwith\u001b[39;00m Pool(Variables\u001b[39m.\u001b[39mCORES) \u001b[39mas\u001b[39;00m pool:\n\u001b[1;32m    300\u001b[0m     \u001b[39m# appends for each list, unpacking results into lists \u001b[39;00m\n\u001b[0;32m--> 301\u001b[0m     \u001b[39mfor\u001b[39;00m x \u001b[39min\u001b[39;00m pool\u001b[39m.\u001b[39mistarmap(function, jobs):\n\u001b[1;32m    302\u001b[0m         results\u001b[39m.\u001b[39mappend(x)\n\u001b[1;32m    304\u001b[0m acclist \u001b[39m=\u001b[39m [results[x][\u001b[39m1\u001b[39m] \u001b[39mfor\u001b[39;00m x \u001b[39min\u001b[39;00m \u001b[39mrange\u001b[39m(\u001b[39mlen\u001b[39m(jobs))]\n",
      "File \u001b[0;32m~/Documents/GitHub/SimulationPackage/Model.py:72\u001b[0m, in \u001b[0;36m<genexpr>\u001b[0;34m(.0)\u001b[0m\n\u001b[1;32m     64\u001b[0m result \u001b[39m=\u001b[39m mpp\u001b[39m.\u001b[39mIMapIterator(\u001b[39mself\u001b[39m)\n\u001b[1;32m     65\u001b[0m \u001b[39mself\u001b[39m\u001b[39m.\u001b[39m_taskqueue\u001b[39m.\u001b[39mput(\n\u001b[1;32m     66\u001b[0m     (\n\u001b[1;32m     67\u001b[0m         \u001b[39mself\u001b[39m\u001b[39m.\u001b[39m_guarded_task_generation(result\u001b[39m.\u001b[39m_job,\n\u001b[0;32m   (...)\u001b[0m\n\u001b[1;32m     70\u001b[0m         result\u001b[39m.\u001b[39m_set_length\n\u001b[1;32m     71\u001b[0m     ))\n\u001b[0;32m---> 72\u001b[0m \u001b[39mreturn\u001b[39;00m (item \u001b[39mfor\u001b[39;00m chunk \u001b[39min\u001b[39;00m result \u001b[39mfor\u001b[39;00m item \u001b[39min\u001b[39;00m chunk)\n",
      "File \u001b[0;32m~/anaconda3/envs/simulationenv/lib/python3.8/multiprocessing/pool.py:868\u001b[0m, in \u001b[0;36mIMapIterator.next\u001b[0;34m(self, timeout)\u001b[0m\n\u001b[1;32m    866\u001b[0m \u001b[39mif\u001b[39;00m success:\n\u001b[1;32m    867\u001b[0m     \u001b[39mreturn\u001b[39;00m value\n\u001b[0;32m--> 868\u001b[0m \u001b[39mraise\u001b[39;00m value\n",
      "\u001b[0;31mTypeError\u001b[0m: model_simulation() takes 2 positional arguments but 8 were given"
     ]
    }
   ],
   "source": [
    "import fit.py\n"
   ]
  },
  {
   "cell_type": "code",
   "execution_count": 17,
   "metadata": {},
   "outputs": [
    {
     "name": "stdout",
     "output_type": "stream",
     "text": [
      "[[2, 3], 0.1, 0.01, 250]\n",
      "([2, 3], 0.1, 0.01, 250)\n"
     ]
    }
   ],
   "source": [
    "jobs=[]\n",
    "results = []\n",
    "\n",
    "parameters = {\"alpha\": 2, \"beta\": 3}\n",
    "dt = .1\n",
    "var = .01\n",
    "nTrials = 1000\n",
    "bins = 4\n",
    "\n",
    "# Create a list that contains all of the parameter values (input params + how many trials should go in each bin)\n",
    "# Each extending model class has default dt, var, nTrial, and noiseSeed values for their model_simulation() \n",
    "values_list = [list(parameters.values())]\n",
    "\n",
    "values_list.append(dt)\n",
    "values_list.append(var)\n",
    "values_list.append(int(nTrials/bins))\n",
    "print(values_list)\n",
    "\n",
    "## preferably have dt, var, etc be defined by user in the beginning in the one file they run. only have default values for the fn the user is \n",
    "# using, not within the methods themselves\n",
    "\n",
    "#remove defaults from extending model classes for dt var etc, and add them to tuple here\n",
    "\n",
    "# Turn the params list into a tuple\n",
    "values_tuple = tuple(values_list)\n",
    "print(values_tuple)"
   ]
  },
  {
   "cell_type": "markdown",
   "metadata": {},
   "source": [
    "goal is to import a function that uses fit.py as a dependency"
   ]
  }
 ],
 "metadata": {
  "kernelspec": {
   "display_name": "Python 3.11.4 ('simulationenv')",
   "language": "python",
   "name": "python3"
  },
  "language_info": {
   "codemirror_mode": {
    "name": "ipython",
    "version": 3
   },
   "file_extension": ".py",
   "mimetype": "text/x-python",
   "name": "python",
   "nbconvert_exporter": "python",
   "pygments_lexer": "ipython3",
   "version": "3.11.4"
  },
  "orig_nbformat": 4,
  "vscode": {
   "interpreter": {
    "hash": "997e78766c1d3f62d22de82252db3ce82bc27ac1ddc46c523e05bd0361ced723"
   }
  }
 },
 "nbformat": 4,
 "nbformat_minor": 2
}
