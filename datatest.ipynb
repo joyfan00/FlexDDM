{
 "cells": [
  {
   "cell_type": "code",
   "execution_count": 1,
   "metadata": {},
   "outputs": [],
   "source": [
    "from Model import Model\n",
    "from SSP import SSP\n",
    "from DMC import DMC\n",
    "from DSTP import DSTP\n",
    "import multiprocessing.pool as mpp\n",
    "import sys\n",
    "import json\n",
    "import pandas as pd\n",
    "import numpy as np\n",
    "from variables import Variables\n",
    "from file_input import *\n",
    "\n"
   ]
  },
  {
   "cell_type": "code",
   "execution_count": 2,
   "metadata": {},
   "outputs": [
    {
     "name": "stdout",
     "output_type": "stream",
     "text": [
      "hi\n",
      "       id   congruency        rt  accuracy\n",
      "0       1    congruent  1.914860         1\n",
      "1       1    congruent  1.034891         1\n",
      "2       1  incongruent  2.330960         1\n",
      "3       1    congruent  2.607167         1\n",
      "4       1  incongruent  1.632532         1\n",
      "...   ...          ...       ...       ...\n",
      "3365  109    congruent  2.254164         1\n",
      "3366  109  incongruent  1.194399         0\n",
      "3367  109    congruent  1.713078         1\n",
      "3368  109    congruent  1.040634         1\n",
      "3369  109  incongruent  1.236208         1\n",
      "\n",
      "[3370 rows x 4 columns]\n"
     ]
    }
   ],
   "source": [
    "data = getRTData()\n",
    "print(\"hi\")\n",
    "print(data)\n"
   ]
  },
  {
   "cell_type": "code",
   "execution_count": 3,
   "metadata": {},
   "outputs": [
    {
     "name": "stdout",
     "output_type": "stream",
     "text": [
      "36\n",
      "Model fitting ID 36\n",
      "run 1\n",
      "1\n",
      "hi\n",
      "{'alpha': 0.5, 'beta': 0.5, 'tau': 0.5, 'shape': 5, 'characteristic_time': 0.5, 'peak_amplitude': 0.5, 'mu_c': 0.5}\n",
      "<class 'dict'>\n",
      "{'alpha': 0.5, 'beta': 0.5, 'tau': 0.5, 'shape': 5, 'characteristic_time': 0.5, 'peak_amplitude': 0.5, 'mu_c': 0.5}\n",
      "[0.5, 0.5, 0.5, 5, 0.5, 0.5, 0.5]\n",
      "(0.5, 0.5, 0.5, 5, 0.5, 0.5, 0.5)\n",
      "1 (0.5, 0.5, 0.5, 5, 0.5, 0.5, 0.5, 0.001, 0.01, 1250, 0)\n",
      "1 (0.5, 0.5, 0.5, 5, 0.5, 0.5, 0.5, 0.001, 0.01, 1250, 1)\n",
      "1 (0.5, 0.5, 0.5, 5, 0.5, 0.5, 0.5, 0.001, 0.01, 1250, 2)\n",
      "1 (0.5, 0.5, 0.5, 5, 0.5, 0.5, 0.5, 0.001, 0.01, 1250, 3)\n"
     ]
    },
    {
     "ename": "ValueError",
     "evalue": "All arrays must be of the same length",
     "output_type": "error",
     "traceback": [
      "\u001b[1;31m---------------------------------------------------------------------------\u001b[0m",
      "\u001b[1;31mValueError\u001b[0m                                Traceback (most recent call last)",
      "\u001b[1;32mc:\\Users\\joyfa\\SimulationPackage\\datatest.ipynb Cell 3\u001b[0m line \u001b[0;36m1\n\u001b[1;32m----> <a href='vscode-notebook-cell:/c%3A/Users/joyfa/SimulationPackage/datatest.ipynb#W2sZmlsZQ%3D%3D?line=0'>1</a>\u001b[0m \u001b[39mimport\u001b[39;00m \u001b[39mfit\u001b[39;00m\u001b[39m.\u001b[39;00m\u001b[39mpy\u001b[39;00m\n",
      "File \u001b[1;32mc:\\Users\\joyfa\\SimulationPackage\\fit.py:64\u001b[0m\n\u001b[0;32m     62\u001b[0m fitstat2 \u001b[39m=\u001b[39m fitstat\n\u001b[0;32m     63\u001b[0m \u001b[39mprint\u001b[39m(runint)\n\u001b[1;32m---> 64\u001b[0m pars, fitstat \u001b[39m=\u001b[39m shrinking_spotlight\u001b[39m.\u001b[39;49mfit(DMC\u001b[39m.\u001b[39;49mmodel_simulation, shrinking_spotlight\u001b[39m.\u001b[39;49mdata[shrinking_spotlight\u001b[39m.\u001b[39;49mdata[\u001b[39m'\u001b[39;49m\u001b[39mid\u001b[39;49m\u001b[39m'\u001b[39;49m]\u001b[39m==\u001b[39;49ms], pars, run\u001b[39m=\u001b[39;49mrunint)\n\u001b[0;32m     65\u001b[0m \u001b[39mprint\u001b[39m(\u001b[39m\"\u001b[39m\u001b[39m, \u001b[39m\u001b[39m\"\u001b[39m\u001b[39m.\u001b[39mjoin(\u001b[39mstr\u001b[39m(x) \u001b[39mfor\u001b[39;00m x \u001b[39min\u001b[39;00m pars))\n\u001b[0;32m     66\u001b[0m \u001b[39mprint\u001b[39m(\u001b[39m\"\u001b[39m\u001b[39m X^2 = \u001b[39m\u001b[39m%s\u001b[39;00m\u001b[39m\"\u001b[39m \u001b[39m%\u001b[39m fitstat)\n",
      "File \u001b[1;32mc:\\Users\\joyfa\\SimulationPackage\\Model.py:182\u001b[0m, in \u001b[0;36mModel.fit\u001b[1;34m(self, function, data, params, run)\u001b[0m\n\u001b[0;32m    180\u001b[0m props \u001b[39m=\u001b[39m \u001b[39mself\u001b[39m\u001b[39m.\u001b[39mproportions(data, Variables\u001b[39m.\u001b[39mQUANTILES_CDF, Variables\u001b[39m.\u001b[39mQUANTILES_CAF)\n\u001b[0;32m    181\u001b[0m bounds_var \u001b[39m=\u001b[39m \u001b[39mself\u001b[39m\u001b[39m.\u001b[39mbounds\n\u001b[1;32m--> 182\u001b[0m predictions \u001b[39m=\u001b[39m \u001b[39mself\u001b[39;49m\u001b[39m.\u001b[39;49mmodel_predict(function, params, props)\n\u001b[0;32m    183\u001b[0m \u001b[39mif\u001b[39;00m run \u001b[39m!=\u001b[39m \u001b[39m1\u001b[39m:\n\u001b[0;32m    184\u001b[0m     fit \u001b[39m=\u001b[39m minimize(Model\u001b[39m.\u001b[39mmodel_function, x0\u001b[39m=\u001b[39mparams, args\u001b[39m=\u001b[39m(props,predictions), options\u001b[39m=\u001b[39m{\u001b[39m'\u001b[39m\u001b[39mmaxiter\u001b[39m\u001b[39m'\u001b[39m: \u001b[39m100\u001b[39m},\n\u001b[0;32m    185\u001b[0m                 method\u001b[39m=\u001b[39m\u001b[39m'\u001b[39m\u001b[39mNelder-Mead\u001b[39m\u001b[39m'\u001b[39m)\n",
      "File \u001b[1;32mc:\\Users\\joyfa\\SimulationPackage\\Model.py:441\u001b[0m, in \u001b[0;36mModel.model_predict\u001b[1;34m(self, function, params, props)\u001b[0m\n\u001b[0;32m    439\u001b[0m \u001b[39mprint\u001b[39m(\u001b[39mtype\u001b[39m(params))\n\u001b[0;32m    440\u001b[0m \u001b[39m# THIS IS WHERE MODEL SIMULATION IS CALLED\u001b[39;00m\n\u001b[1;32m--> 441\u001b[0m sim_data \u001b[39m=\u001b[39m \u001b[39mself\u001b[39;49m\u001b[39m.\u001b[39;49mparallel_sim(function, params)\n\u001b[0;32m    443\u001b[0m sim_data_congruent \u001b[39m=\u001b[39m sim_data[sim_data[\u001b[39m'\u001b[39m\u001b[39mcongruency\u001b[39m\u001b[39m'\u001b[39m]\u001b[39m==\u001b[39m\u001b[39m'\u001b[39m\u001b[39mcongruent\u001b[39m\u001b[39m'\u001b[39m]\n\u001b[0;32m    444\u001b[0m sim_data_incongruent \u001b[39m=\u001b[39m sim_data[sim_data[\u001b[39m'\u001b[39m\u001b[39mcongruency\u001b[39m\u001b[39m'\u001b[39m]\u001b[39m==\u001b[39m\u001b[39m'\u001b[39m\u001b[39mincongruent\u001b[39m\u001b[39m'\u001b[39m]\n",
      "File \u001b[1;32mc:\\Users\\joyfa\\SimulationPackage\\Model.py:307\u001b[0m, in \u001b[0;36mModel.parallel_sim\u001b[1;34m(self, function, parameters)\u001b[0m\n\u001b[0;32m    304\u001b[0m rtlist \u001b[39m=\u001b[39m [results[x][\u001b[39m2\u001b[39m] \u001b[39mfor\u001b[39;00m x \u001b[39min\u001b[39;00m \u001b[39mrange\u001b[39m(\u001b[39mlen\u001b[39m(jobs))]\n\u001b[0;32m    305\u001b[0m congruencylist \u001b[39m=\u001b[39m [results[x][\u001b[39m3\u001b[39m] \u001b[39mfor\u001b[39;00m x \u001b[39min\u001b[39;00m \u001b[39mrange\u001b[39m(\u001b[39mlen\u001b[39m(jobs))]\n\u001b[1;32m--> 307\u001b[0m sim_data \u001b[39m=\u001b[39m pd\u001b[39m.\u001b[39;49mDataFrame({\u001b[39m'\u001b[39;49m\u001b[39maccuracy\u001b[39;49m\u001b[39m'\u001b[39;49m: [item \u001b[39mfor\u001b[39;49;00m sublist \u001b[39min\u001b[39;49;00m acclist \u001b[39mfor\u001b[39;49;00m item \u001b[39min\u001b[39;49;00m sublist],\n\u001b[0;32m    308\u001b[0m                         \u001b[39m'\u001b[39;49m\u001b[39mrt\u001b[39;49m\u001b[39m'\u001b[39;49m: [item \u001b[39mfor\u001b[39;49;00m sublist \u001b[39min\u001b[39;49;00m rtlist \u001b[39mfor\u001b[39;49;00m item \u001b[39min\u001b[39;49;00m sublist],\n\u001b[0;32m    309\u001b[0m                         \u001b[39m'\u001b[39;49m\u001b[39mcongruency\u001b[39;49m\u001b[39m'\u001b[39;49m: [item \u001b[39mfor\u001b[39;49;00m sublist \u001b[39min\u001b[39;49;00m congruencylist \u001b[39mfor\u001b[39;49;00m item \u001b[39min\u001b[39;49;00m sublist]})\n\u001b[0;32m    311\u001b[0m \u001b[39mreturn\u001b[39;00m sim_data\n",
      "File \u001b[1;32mc:\\Users\\joyfa\\anaconda3\\envs\\simulationenv\\Lib\\site-packages\\pandas\\core\\frame.py:709\u001b[0m, in \u001b[0;36mDataFrame.__init__\u001b[1;34m(self, data, index, columns, dtype, copy)\u001b[0m\n\u001b[0;32m    703\u001b[0m     mgr \u001b[39m=\u001b[39m \u001b[39mself\u001b[39m\u001b[39m.\u001b[39m_init_mgr(\n\u001b[0;32m    704\u001b[0m         data, axes\u001b[39m=\u001b[39m{\u001b[39m\"\u001b[39m\u001b[39mindex\u001b[39m\u001b[39m\"\u001b[39m: index, \u001b[39m\"\u001b[39m\u001b[39mcolumns\u001b[39m\u001b[39m\"\u001b[39m: columns}, dtype\u001b[39m=\u001b[39mdtype, copy\u001b[39m=\u001b[39mcopy\n\u001b[0;32m    705\u001b[0m     )\n\u001b[0;32m    707\u001b[0m \u001b[39melif\u001b[39;00m \u001b[39misinstance\u001b[39m(data, \u001b[39mdict\u001b[39m):\n\u001b[0;32m    708\u001b[0m     \u001b[39m# GH#38939 de facto copy defaults to False only in non-dict cases\u001b[39;00m\n\u001b[1;32m--> 709\u001b[0m     mgr \u001b[39m=\u001b[39m dict_to_mgr(data, index, columns, dtype\u001b[39m=\u001b[39;49mdtype, copy\u001b[39m=\u001b[39;49mcopy, typ\u001b[39m=\u001b[39;49mmanager)\n\u001b[0;32m    710\u001b[0m \u001b[39melif\u001b[39;00m \u001b[39misinstance\u001b[39m(data, ma\u001b[39m.\u001b[39mMaskedArray):\n\u001b[0;32m    711\u001b[0m     \u001b[39mfrom\u001b[39;00m \u001b[39mnumpy\u001b[39;00m\u001b[39m.\u001b[39;00m\u001b[39mma\u001b[39;00m \u001b[39mimport\u001b[39;00m mrecords\n",
      "File \u001b[1;32mc:\\Users\\joyfa\\anaconda3\\envs\\simulationenv\\Lib\\site-packages\\pandas\\core\\internals\\construction.py:481\u001b[0m, in \u001b[0;36mdict_to_mgr\u001b[1;34m(data, index, columns, dtype, typ, copy)\u001b[0m\n\u001b[0;32m    477\u001b[0m     \u001b[39melse\u001b[39;00m:\n\u001b[0;32m    478\u001b[0m         \u001b[39m# dtype check to exclude e.g. range objects, scalars\u001b[39;00m\n\u001b[0;32m    479\u001b[0m         arrays \u001b[39m=\u001b[39m [x\u001b[39m.\u001b[39mcopy() \u001b[39mif\u001b[39;00m \u001b[39mhasattr\u001b[39m(x, \u001b[39m\"\u001b[39m\u001b[39mdtype\u001b[39m\u001b[39m\"\u001b[39m) \u001b[39melse\u001b[39;00m x \u001b[39mfor\u001b[39;00m x \u001b[39min\u001b[39;00m arrays]\n\u001b[1;32m--> 481\u001b[0m \u001b[39mreturn\u001b[39;00m arrays_to_mgr(arrays, columns, index, dtype\u001b[39m=\u001b[39;49mdtype, typ\u001b[39m=\u001b[39;49mtyp, consolidate\u001b[39m=\u001b[39;49mcopy)\n",
      "File \u001b[1;32mc:\\Users\\joyfa\\anaconda3\\envs\\simulationenv\\Lib\\site-packages\\pandas\\core\\internals\\construction.py:115\u001b[0m, in \u001b[0;36marrays_to_mgr\u001b[1;34m(arrays, columns, index, dtype, verify_integrity, typ, consolidate)\u001b[0m\n\u001b[0;32m    112\u001b[0m \u001b[39mif\u001b[39;00m verify_integrity:\n\u001b[0;32m    113\u001b[0m     \u001b[39m# figure out the index, if necessary\u001b[39;00m\n\u001b[0;32m    114\u001b[0m     \u001b[39mif\u001b[39;00m index \u001b[39mis\u001b[39;00m \u001b[39mNone\u001b[39;00m:\n\u001b[1;32m--> 115\u001b[0m         index \u001b[39m=\u001b[39m _extract_index(arrays)\n\u001b[0;32m    116\u001b[0m     \u001b[39melse\u001b[39;00m:\n\u001b[0;32m    117\u001b[0m         index \u001b[39m=\u001b[39m ensure_index(index)\n",
      "File \u001b[1;32mc:\\Users\\joyfa\\anaconda3\\envs\\simulationenv\\Lib\\site-packages\\pandas\\core\\internals\\construction.py:655\u001b[0m, in \u001b[0;36m_extract_index\u001b[1;34m(data)\u001b[0m\n\u001b[0;32m    653\u001b[0m lengths \u001b[39m=\u001b[39m \u001b[39mlist\u001b[39m(\u001b[39mset\u001b[39m(raw_lengths))\n\u001b[0;32m    654\u001b[0m \u001b[39mif\u001b[39;00m \u001b[39mlen\u001b[39m(lengths) \u001b[39m>\u001b[39m \u001b[39m1\u001b[39m:\n\u001b[1;32m--> 655\u001b[0m     \u001b[39mraise\u001b[39;00m \u001b[39mValueError\u001b[39;00m(\u001b[39m\"\u001b[39m\u001b[39mAll arrays must be of the same length\u001b[39m\u001b[39m\"\u001b[39m)\n\u001b[0;32m    657\u001b[0m \u001b[39mif\u001b[39;00m have_dicts:\n\u001b[0;32m    658\u001b[0m     \u001b[39mraise\u001b[39;00m \u001b[39mValueError\u001b[39;00m(\n\u001b[0;32m    659\u001b[0m         \u001b[39m\"\u001b[39m\u001b[39mMixing dicts with non-Series may lead to ambiguous ordering.\u001b[39m\u001b[39m\"\u001b[39m\n\u001b[0;32m    660\u001b[0m     )\n",
      "\u001b[1;31mValueError\u001b[0m: All arrays must be of the same length"
     ]
    }
   ],
   "source": [
    "import fit.py\n"
   ]
  },
  {
   "cell_type": "code",
   "execution_count": 17,
   "metadata": {},
   "outputs": [
    {
     "name": "stdout",
     "output_type": "stream",
     "text": [
      "[[2, 3], 0.1, 0.01, 250]\n",
      "([2, 3], 0.1, 0.01, 250)\n"
     ]
    }
   ],
   "source": [
    "jobs=[]\n",
    "results = []\n",
    "\n",
    "parameters = {\"alpha\": 2, \"beta\": 3}\n",
    "dt = .1\n",
    "var = .01\n",
    "nTrials = 1000\n",
    "bins = 4\n",
    "\n",
    "# Create a list that contains all of the parameter values (input params + how many trials should go in each bin)\n",
    "# Each extending model class has default dt, var, nTrial, and noiseSeed values for their model_simulation() \n",
    "values_list = [list(parameters.values())]\n",
    "\n",
    "values_list.append(dt)\n",
    "values_list.append(var)\n",
    "values_list.append(int(nTrials/bins))\n",
    "print(values_list)\n",
    "\n",
    "## preferably have dt, var, etc be defined by user in the beginning in the one file they run. only have default values for the fn the user is \n",
    "# using, not within the methods themselves\n",
    "\n",
    "#remove defaults from extending model classes for dt var etc, and add them to tuple here\n",
    "\n",
    "# Turn the params list into a tuple\n",
    "values_tuple = tuple(values_list)\n",
    "print(values_tuple)"
   ]
  },
  {
   "cell_type": "code",
   "execution_count": 4,
   "metadata": {},
   "outputs": [
    {
     "name": "stdout",
     "output_type": "stream",
     "text": [
      "0.5\n"
     ]
    }
   ],
   "source": [
    "import math\n",
    "shape = 2\n",
    "characteristic_time = 0.5\n",
    "peak_amplitude = 0.5\n",
    "automatic_time = 0.5\n",
    "mu_c = 0.5\n",
    "print((-peak_amplitude * math.exp(-(automatic_time / characteristic_time)) * math.pow(((automatic_time * math.exp(1)) / ((shape - 1) * characteristic_time)), (shape - 1)) * (((shape - 1) / automatic_time) - (1 / characteristic_time))) + mu_c)"
   ]
  },
  {
   "cell_type": "code",
   "execution_count": 5,
   "metadata": {},
   "outputs": [
    {
     "ename": "ValueError",
     "evalue": "math domain error",
     "output_type": "error",
     "traceback": [
      "\u001b[1;31m---------------------------------------------------------------------------\u001b[0m",
      "\u001b[1;31mValueError\u001b[0m                                Traceback (most recent call last)",
      "\u001b[1;32mc:\\Users\\joyfa\\SimulationPackage\\datatest.ipynb Cell 6\u001b[0m line \u001b[0;36m1\n\u001b[1;32m----> <a href='vscode-notebook-cell:/c%3A/Users/joyfa/SimulationPackage/datatest.ipynb#W6sZmlsZQ%3D%3D?line=0'>1</a>\u001b[0m math\u001b[39m.\u001b[39;49mpow(\u001b[39m-\u001b[39;49m\u001b[39m.5\u001b[39;49m, \u001b[39m-\u001b[39;49m\u001b[39m.5\u001b[39;49m)\n",
      "\u001b[1;31mValueError\u001b[0m: math domain error"
     ]
    }
   ],
   "source": [
    "math.pow(-.5, -.5)"
   ]
  },
  {
   "cell_type": "code",
   "execution_count": 7,
   "metadata": {},
   "outputs": [
    {
     "data": {
      "text/plain": [
       "(8.659560562354934e-17-1.4142135623730951j)"
      ]
     },
     "execution_count": 7,
     "metadata": {},
     "output_type": "execute_result"
    }
   ],
   "source": [
    "(-.5)**(-.5)"
   ]
  },
  {
   "cell_type": "markdown",
   "metadata": {},
   "source": [
    "goal is to import a function that uses fit.py as a dependency"
   ]
  }
 ],
 "metadata": {
  "kernelspec": {
   "display_name": "Python 3.11.4 ('simulationenv')",
   "language": "python",
   "name": "python3"
  },
  "language_info": {
   "codemirror_mode": {
    "name": "ipython",
    "version": 3
   },
   "file_extension": ".py",
   "mimetype": "text/x-python",
   "name": "python",
   "nbconvert_exporter": "python",
   "pygments_lexer": "ipython3",
   "version": "3.11.4"
  },
  "orig_nbformat": 4,
  "vscode": {
   "interpreter": {
    "hash": "997e78766c1d3f62d22de82252db3ce82bc27ac1ddc46c523e05bd0361ced723"
   }
  }
 },
 "nbformat": 4,
 "nbformat_minor": 2
}
