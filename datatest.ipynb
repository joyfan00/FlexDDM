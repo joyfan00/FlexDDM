{
 "cells": [
  {
   "cell_type": "code",
   "execution_count": 1,
   "metadata": {},
   "outputs": [],
   "source": [
    "from Model import Model\n",
    "from SSP import SSP\n",
    "from DMC import DMC\n",
    "from DSTP import DSTP\n",
    "import multiprocessing.pool as mpp\n",
    "import sys\n",
    "import json\n",
    "import pandas as pd\n",
    "import numpy as np\n",
    "from variables import Variables\n",
    "from file_input import *\n",
    "\n"
   ]
  },
  {
   "cell_type": "code",
   "execution_count": 2,
   "metadata": {},
   "outputs": [
    {
     "name": "stdout",
     "output_type": "stream",
     "text": [
      "hi\n",
      "       id   congruency        rt  accuracy\n",
      "0       1    congruent  1.914860         1\n",
      "1       1    congruent  1.034891         1\n",
      "2       1  incongruent  2.330960         1\n",
      "3       1    congruent  2.607167         1\n",
      "4       1  incongruent  1.632532         1\n",
      "...   ...          ...       ...       ...\n",
      "3365  109    congruent  2.254164         1\n",
      "3366  109  incongruent  1.194399         0\n",
      "3367  109    congruent  1.713078         1\n",
      "3368  109    congruent  1.040634         1\n",
      "3369  109  incongruent  1.236208         1\n",
      "\n",
      "[3370 rows x 4 columns]\n"
     ]
    }
   ],
   "source": [
    "data = getRTData()\n",
    "print(\"hi\")\n",
    "print(data)\n"
   ]
  },
  {
   "cell_type": "code",
   "execution_count": 3,
   "metadata": {},
   "outputs": [
    {
     "name": "stdout",
     "output_type": "stream",
     "text": [
      "37\n",
      "Model fitting ID 37\n",
      "run 1\n",
      "1\n",
      "BOUNDS\n",
      "[(0, 1), (0, 1), (1, 20), (1, 10), (0.001, 10), (0, 1), (0, 0.10892)]\n",
      "[(0, 1), (0, 1), (1, 20), (1, 10), (0.001, 10), (0, 1), (0, 0.10892)]\n",
      "MODEL PREDICT PARAMS\n",
      "<class 'numpy.ndarray'>\n",
      "[ 0.08348967  0.94028891 13.60992185  6.69817425  2.77909009  0.83841097\n",
      "  0.08571263]\n",
      "JOBS\n",
      "[(0.08348967093331638, 0.94028891489027, 13.609921846667175, 6.69817424554603, 2.7790900945298764, 0.8384109695423146, 0.08571263159525805, 0.001, 0.01, 1, 0), (0.08348967093331638, 0.94028891489027, 13.609921846667175, 6.69817424554603, 2.7790900945298764, 0.8384109695423146, 0.08571263159525805, 0.001, 0.01, 1, 1), (0.08348967093331638, 0.94028891489027, 13.609921846667175, 6.69817424554603, 2.7790900945298764, 0.8384109695423146, 0.08571263159525805, 0.001, 0.01, 1, 2), (0.08348967093331638, 0.94028891489027, 13.609921846667175, 6.69817424554603, 2.7790900945298764, 0.8384109695423146, 0.08571263159525805, 0.001, 0.01, 1, 3)]\n"
     ]
    },
    {
     "ename": "RuntimeError",
     "evalue": "The map-like callable must be of the form f(func, iterable), returning a sequence of numbers the same length as 'iterable'",
     "output_type": "error",
     "traceback": [
      "\u001b[1;31m---------------------------------------------------------------------------\u001b[0m",
      "\u001b[1;31mValueError\u001b[0m                                Traceback (most recent call last)",
      "File \u001b[1;32mc:\\Users\\joyfa\\anaconda3\\envs\\simulationenv\\Lib\\site-packages\\scipy\\optimize\\_differentialevolution.py:1146\u001b[0m, in \u001b[0;36mDifferentialEvolutionSolver._calculate_population_energies\u001b[1;34m(self, population)\u001b[0m\n\u001b[0;32m   1145\u001b[0m \u001b[39mtry\u001b[39;00m:\n\u001b[1;32m-> 1146\u001b[0m     calc_energies \u001b[39m=\u001b[39m \u001b[39mlist\u001b[39;49m(\n\u001b[0;32m   1147\u001b[0m         \u001b[39mself\u001b[39;49m\u001b[39m.\u001b[39;49m_mapwrapper(\u001b[39mself\u001b[39;49m\u001b[39m.\u001b[39;49mfunc, parameters_pop[\u001b[39m0\u001b[39;49m:S])\n\u001b[0;32m   1148\u001b[0m     )\n\u001b[0;32m   1149\u001b[0m     calc_energies \u001b[39m=\u001b[39m np\u001b[39m.\u001b[39msqueeze(calc_energies)\n",
      "File \u001b[1;32mc:\\Users\\joyfa\\anaconda3\\envs\\simulationenv\\Lib\\site-packages\\scipy\\_lib\\_util.py:360\u001b[0m, in \u001b[0;36m_FunctionWrapper.__call__\u001b[1;34m(self, x)\u001b[0m\n\u001b[0;32m    359\u001b[0m \u001b[39mdef\u001b[39;00m \u001b[39m__call__\u001b[39m(\u001b[39mself\u001b[39m, x):\n\u001b[1;32m--> 360\u001b[0m     \u001b[39mreturn\u001b[39;00m \u001b[39mself\u001b[39;49m\u001b[39m.\u001b[39;49mf(x, \u001b[39m*\u001b[39;49m\u001b[39mself\u001b[39;49m\u001b[39m.\u001b[39;49margs)\n",
      "File \u001b[1;32mc:\\Users\\joyfa\\SimulationPackage\\Model.py:228\u001b[0m, in \u001b[0;36mModel.model_function\u001b[1;34m(x, props, param_number, function, data, bounds, final)\u001b[0m\n\u001b[0;32m    227\u001b[0m \u001b[39mprint\u001b[39m(m\u001b[39m.\u001b[39mbounds)\n\u001b[1;32m--> 228\u001b[0m predictions \u001b[39m=\u001b[39m m\u001b[39m.\u001b[39;49mmodel_predict(function, x, props)\n\u001b[0;32m    230\u001b[0m \u001b[39m# cdf_props_congruent:\u001b[39;00m\n\u001b[0;32m    231\u001b[0m \u001b[39m# what percent of RTs fall within those buckets\u001b[39;00m\n\u001b[0;32m    232\u001b[0m \u001b[39m# cdf_props_congruents: list of percentages that fall within quantiles, percentage of RTs that are congruent\u001b[39;00m\n\u001b[0;32m    233\u001b[0m \u001b[39m# compare to the data simulated \u001b[39;00m\n\u001b[0;32m    234\u001b[0m \u001b[39m# keep adjusting until get to those percentages within quantiles with the simulated data \u001b[39;00m\n",
      "File \u001b[1;32mc:\\Users\\joyfa\\SimulationPackage\\Model.py:458\u001b[0m, in \u001b[0;36mModel.model_predict\u001b[1;34m(self, function, params, props)\u001b[0m\n\u001b[0;32m    457\u001b[0m \u001b[39m# THIS IS WHERE MODEL SIMULATION IS CALLED\u001b[39;00m\n\u001b[1;32m--> 458\u001b[0m sim_data \u001b[39m=\u001b[39m \u001b[39mself\u001b[39;49m\u001b[39m.\u001b[39;49mparallel_sim(function, params)\n\u001b[0;32m    460\u001b[0m sim_data_congruent \u001b[39m=\u001b[39m sim_data[sim_data[\u001b[39m'\u001b[39m\u001b[39mcongruency\u001b[39m\u001b[39m'\u001b[39m]\u001b[39m==\u001b[39m\u001b[39m'\u001b[39m\u001b[39mcongruent\u001b[39m\u001b[39m'\u001b[39m]\n",
      "File \u001b[1;32mc:\\Users\\joyfa\\SimulationPackage\\Model.py:324\u001b[0m, in \u001b[0;36mModel.parallel_sim\u001b[1;34m(self, function, parameters)\u001b[0m\n\u001b[0;32m    322\u001b[0m congruencylist \u001b[39m=\u001b[39m [results[x][\u001b[39m3\u001b[39m] \u001b[39mfor\u001b[39;00m x \u001b[39min\u001b[39;00m \u001b[39mrange\u001b[39m(\u001b[39mlen\u001b[39m(jobs))]\n\u001b[1;32m--> 324\u001b[0m sim_data \u001b[39m=\u001b[39m pd\u001b[39m.\u001b[39;49mDataFrame({\u001b[39m'\u001b[39;49m\u001b[39maccuracy\u001b[39;49m\u001b[39m'\u001b[39;49m: [item \u001b[39mfor\u001b[39;49;00m sublist \u001b[39min\u001b[39;49;00m acclist \u001b[39mfor\u001b[39;49;00m item \u001b[39min\u001b[39;49;00m sublist],\n\u001b[0;32m    325\u001b[0m                         \u001b[39m'\u001b[39;49m\u001b[39mrt\u001b[39;49m\u001b[39m'\u001b[39;49m: [item \u001b[39mfor\u001b[39;49;00m sublist \u001b[39min\u001b[39;49;00m rtlist \u001b[39mfor\u001b[39;49;00m item \u001b[39min\u001b[39;49;00m sublist],\n\u001b[0;32m    326\u001b[0m                         \u001b[39m'\u001b[39;49m\u001b[39mcongruency\u001b[39;49m\u001b[39m'\u001b[39;49m: [item \u001b[39mfor\u001b[39;49;00m sublist \u001b[39min\u001b[39;49;00m congruencylist \u001b[39mfor\u001b[39;49;00m item \u001b[39min\u001b[39;49;00m sublist]})\n\u001b[0;32m    328\u001b[0m \u001b[39mreturn\u001b[39;00m sim_data\n",
      "File \u001b[1;32mc:\\Users\\joyfa\\anaconda3\\envs\\simulationenv\\Lib\\site-packages\\pandas\\core\\frame.py:709\u001b[0m, in \u001b[0;36mDataFrame.__init__\u001b[1;34m(self, data, index, columns, dtype, copy)\u001b[0m\n\u001b[0;32m    707\u001b[0m \u001b[39melif\u001b[39;00m \u001b[39misinstance\u001b[39m(data, \u001b[39mdict\u001b[39m):\n\u001b[0;32m    708\u001b[0m     \u001b[39m# GH#38939 de facto copy defaults to False only in non-dict cases\u001b[39;00m\n\u001b[1;32m--> 709\u001b[0m     mgr \u001b[39m=\u001b[39m dict_to_mgr(data, index, columns, dtype\u001b[39m=\u001b[39;49mdtype, copy\u001b[39m=\u001b[39;49mcopy, typ\u001b[39m=\u001b[39;49mmanager)\n\u001b[0;32m    710\u001b[0m \u001b[39melif\u001b[39;00m \u001b[39misinstance\u001b[39m(data, ma\u001b[39m.\u001b[39mMaskedArray):\n",
      "File \u001b[1;32mc:\\Users\\joyfa\\anaconda3\\envs\\simulationenv\\Lib\\site-packages\\pandas\\core\\internals\\construction.py:481\u001b[0m, in \u001b[0;36mdict_to_mgr\u001b[1;34m(data, index, columns, dtype, typ, copy)\u001b[0m\n\u001b[0;32m    479\u001b[0m         arrays \u001b[39m=\u001b[39m [x\u001b[39m.\u001b[39mcopy() \u001b[39mif\u001b[39;00m \u001b[39mhasattr\u001b[39m(x, \u001b[39m\"\u001b[39m\u001b[39mdtype\u001b[39m\u001b[39m\"\u001b[39m) \u001b[39melse\u001b[39;00m x \u001b[39mfor\u001b[39;00m x \u001b[39min\u001b[39;00m arrays]\n\u001b[1;32m--> 481\u001b[0m \u001b[39mreturn\u001b[39;00m arrays_to_mgr(arrays, columns, index, dtype\u001b[39m=\u001b[39;49mdtype, typ\u001b[39m=\u001b[39;49mtyp, consolidate\u001b[39m=\u001b[39;49mcopy)\n",
      "File \u001b[1;32mc:\\Users\\joyfa\\anaconda3\\envs\\simulationenv\\Lib\\site-packages\\pandas\\core\\internals\\construction.py:115\u001b[0m, in \u001b[0;36marrays_to_mgr\u001b[1;34m(arrays, columns, index, dtype, verify_integrity, typ, consolidate)\u001b[0m\n\u001b[0;32m    114\u001b[0m \u001b[39mif\u001b[39;00m index \u001b[39mis\u001b[39;00m \u001b[39mNone\u001b[39;00m:\n\u001b[1;32m--> 115\u001b[0m     index \u001b[39m=\u001b[39m _extract_index(arrays)\n\u001b[0;32m    116\u001b[0m \u001b[39melse\u001b[39;00m:\n",
      "File \u001b[1;32mc:\\Users\\joyfa\\anaconda3\\envs\\simulationenv\\Lib\\site-packages\\pandas\\core\\internals\\construction.py:655\u001b[0m, in \u001b[0;36m_extract_index\u001b[1;34m(data)\u001b[0m\n\u001b[0;32m    654\u001b[0m \u001b[39mif\u001b[39;00m \u001b[39mlen\u001b[39m(lengths) \u001b[39m>\u001b[39m \u001b[39m1\u001b[39m:\n\u001b[1;32m--> 655\u001b[0m     \u001b[39mraise\u001b[39;00m \u001b[39mValueError\u001b[39;00m(\u001b[39m\"\u001b[39m\u001b[39mAll arrays must be of the same length\u001b[39m\u001b[39m\"\u001b[39m)\n\u001b[0;32m    657\u001b[0m \u001b[39mif\u001b[39;00m have_dicts:\n",
      "\u001b[1;31mValueError\u001b[0m: All arrays must be of the same length",
      "\nThe above exception was the direct cause of the following exception:\n",
      "\u001b[1;31mRuntimeError\u001b[0m                              Traceback (most recent call last)",
      "\u001b[1;32mc:\\Users\\joyfa\\SimulationPackage\\datatest.ipynb Cell 3\u001b[0m line \u001b[0;36m1\n\u001b[1;32m----> <a href='vscode-notebook-cell:/c%3A/Users/joyfa/SimulationPackage/datatest.ipynb#W2sZmlsZQ%3D%3D?line=0'>1</a>\u001b[0m \u001b[39mimport\u001b[39;00m \u001b[39mfit\u001b[39;00m\u001b[39m.\u001b[39;00m\u001b[39mpy\u001b[39;00m\n",
      "File \u001b[1;32mc:\\Users\\joyfa\\SimulationPackage\\fit.py:41\u001b[0m\n\u001b[0;32m     39\u001b[0m fitstat2 \u001b[39m=\u001b[39m fitstat\n\u001b[0;32m     40\u001b[0m \u001b[39mprint\u001b[39m(runint)\n\u001b[1;32m---> 41\u001b[0m pars, fitstat \u001b[39m=\u001b[39m shrinking_spotlight\u001b[39m.\u001b[39;49mfit(DMC\u001b[39m.\u001b[39;49mmodel_simulation, shrinking_spotlight\u001b[39m.\u001b[39;49mdata[shrinking_spotlight\u001b[39m.\u001b[39;49mdata[\u001b[39m'\u001b[39;49m\u001b[39mid\u001b[39;49m\u001b[39m'\u001b[39;49m]\u001b[39m==\u001b[39;49ms], pars, run\u001b[39m=\u001b[39;49mrunint)\n\u001b[0;32m     42\u001b[0m \u001b[39mprint\u001b[39m(\u001b[39m\"\u001b[39m\u001b[39m, \u001b[39m\u001b[39m\"\u001b[39m\u001b[39m.\u001b[39mjoin(\u001b[39mstr\u001b[39m(x) \u001b[39mfor\u001b[39;00m x \u001b[39min\u001b[39;00m pars))\n\u001b[0;32m     43\u001b[0m \u001b[39mprint\u001b[39m(\u001b[39m\"\u001b[39m\u001b[39m X^2 = \u001b[39m\u001b[39m%s\u001b[39;00m\u001b[39m\"\u001b[39m \u001b[39m%\u001b[39m fitstat)\n",
      "File \u001b[1;32mc:\\Users\\joyfa\\SimulationPackage\\Model.py:190\u001b[0m, in \u001b[0;36mModel.fit\u001b[1;34m(self, function, data, params, run)\u001b[0m\n\u001b[0;32m    184\u001b[0m     fit \u001b[39m=\u001b[39m minimize(Model\u001b[39m.\u001b[39mmodel_function, x0\u001b[39m=\u001b[39mparams, args\u001b[39m=\u001b[39m(props,\u001b[39mself\u001b[39m\u001b[39m.\u001b[39mparam_number,function, data, bounds_var), options\u001b[39m=\u001b[39m{\u001b[39m'\u001b[39m\u001b[39mmaxiter\u001b[39m\u001b[39m'\u001b[39m: \u001b[39m100\u001b[39m},\n\u001b[0;32m    185\u001b[0m                 method\u001b[39m=\u001b[39m\u001b[39m'\u001b[39m\u001b[39mL-BFGS-B\u001b[39m\u001b[39m'\u001b[39m)\n\u001b[0;32m    186\u001b[0m     \u001b[39m#fit = minimize(Model.model_function, x0=params, args=(data,props,self.bounds,self.param_number,function), options={'maxiter': 100},\u001b[39;00m\n\u001b[0;32m    187\u001b[0m                 \u001b[39m#method='Nelder-Mead')\u001b[39;00m\n\u001b[0;32m    188\u001b[0m \u001b[39melse\u001b[39;00m:\n\u001b[0;32m    189\u001b[0m     \u001b[39m# print(props)\u001b[39;00m\n\u001b[1;32m--> 190\u001b[0m     fit \u001b[39m=\u001b[39m differential_evolution(Model\u001b[39m.\u001b[39;49mmodel_function, bounds\u001b[39m=\u001b[39;49mbounds_var, \n\u001b[0;32m    191\u001b[0m                             args\u001b[39m=\u001b[39;49m(props,\u001b[39mself\u001b[39;49m\u001b[39m.\u001b[39;49mparam_number,function, data, bounds_var), maxiter\u001b[39m=\u001b[39;49m\u001b[39m1\u001b[39;49m, seed\u001b[39m=\u001b[39;49m\u001b[39m10\u001b[39;49m,\n\u001b[0;32m    192\u001b[0m                             disp\u001b[39m=\u001b[39;49m\u001b[39mTrue\u001b[39;49;00m, popsize\u001b[39m=\u001b[39;49m\u001b[39m100\u001b[39;49m, polish\u001b[39m=\u001b[39;49m\u001b[39mFalse\u001b[39;49;00m)\n\u001b[0;32m    193\u001b[0m     \u001b[39m#fit = differential_evolution(Model.model_function, bounds=self.bounds, \u001b[39;00m\n\u001b[0;32m    194\u001b[0m     \u001b[39m#                        args=(data,params, props,bounds_var,self.param_number, function), maxiter=1, seed=100,\u001b[39;00m\n\u001b[0;32m    195\u001b[0m     \u001b[39m#                        disp=True, popsize=100, polish=True)\u001b[39;00m\n\u001b[0;32m    197\u001b[0m bestparams \u001b[39m=\u001b[39m fit\u001b[39m.\u001b[39mx\n",
      "File \u001b[1;32mc:\\Users\\joyfa\\anaconda3\\envs\\simulationenv\\Lib\\site-packages\\scipy\\optimize\\_differentialevolution.py:402\u001b[0m, in \u001b[0;36mdifferential_evolution\u001b[1;34m(func, bounds, args, strategy, maxiter, popsize, tol, mutation, recombination, seed, callback, disp, polish, init, atol, updating, workers, constraints, x0, integrality, vectorized)\u001b[0m\n\u001b[0;32m    385\u001b[0m \u001b[39m# using a context manager means that any created Pool objects are\u001b[39;00m\n\u001b[0;32m    386\u001b[0m \u001b[39m# cleared up.\u001b[39;00m\n\u001b[0;32m    387\u001b[0m \u001b[39mwith\u001b[39;00m DifferentialEvolutionSolver(func, bounds, args\u001b[39m=\u001b[39margs,\n\u001b[0;32m    388\u001b[0m                                  strategy\u001b[39m=\u001b[39mstrategy,\n\u001b[0;32m    389\u001b[0m                                  maxiter\u001b[39m=\u001b[39mmaxiter,\n\u001b[1;32m   (...)\u001b[0m\n\u001b[0;32m    400\u001b[0m                                  integrality\u001b[39m=\u001b[39mintegrality,\n\u001b[0;32m    401\u001b[0m                                  vectorized\u001b[39m=\u001b[39mvectorized) \u001b[39mas\u001b[39;00m solver:\n\u001b[1;32m--> 402\u001b[0m     ret \u001b[39m=\u001b[39m solver\u001b[39m.\u001b[39;49msolve()\n\u001b[0;32m    404\u001b[0m \u001b[39mreturn\u001b[39;00m ret\n",
      "File \u001b[1;32mc:\\Users\\joyfa\\anaconda3\\envs\\simulationenv\\Lib\\site-packages\\scipy\\optimize\\_differentialevolution.py:1013\u001b[0m, in \u001b[0;36mDifferentialEvolutionSolver.solve\u001b[1;34m(self)\u001b[0m\n\u001b[0;32m   1008\u001b[0m     \u001b[39mself\u001b[39m\u001b[39m.\u001b[39mfeasible, \u001b[39mself\u001b[39m\u001b[39m.\u001b[39mconstraint_violation \u001b[39m=\u001b[39m (\n\u001b[0;32m   1009\u001b[0m         \u001b[39mself\u001b[39m\u001b[39m.\u001b[39m_calculate_population_feasibilities(\u001b[39mself\u001b[39m\u001b[39m.\u001b[39mpopulation))\n\u001b[0;32m   1011\u001b[0m     \u001b[39m# only work out population energies for feasible solutions\u001b[39;00m\n\u001b[0;32m   1012\u001b[0m     \u001b[39mself\u001b[39m\u001b[39m.\u001b[39mpopulation_energies[\u001b[39mself\u001b[39m\u001b[39m.\u001b[39mfeasible] \u001b[39m=\u001b[39m (\n\u001b[1;32m-> 1013\u001b[0m         \u001b[39mself\u001b[39;49m\u001b[39m.\u001b[39;49m_calculate_population_energies(\n\u001b[0;32m   1014\u001b[0m             \u001b[39mself\u001b[39;49m\u001b[39m.\u001b[39;49mpopulation[\u001b[39mself\u001b[39;49m\u001b[39m.\u001b[39;49mfeasible]))\n\u001b[0;32m   1016\u001b[0m     \u001b[39mself\u001b[39m\u001b[39m.\u001b[39m_promote_lowest_energy()\n\u001b[0;32m   1018\u001b[0m \u001b[39m# do the optimization.\u001b[39;00m\n",
      "File \u001b[1;32mc:\\Users\\joyfa\\anaconda3\\envs\\simulationenv\\Lib\\site-packages\\scipy\\optimize\\_differentialevolution.py:1153\u001b[0m, in \u001b[0;36mDifferentialEvolutionSolver._calculate_population_energies\u001b[1;34m(self, population)\u001b[0m\n\u001b[0;32m   1149\u001b[0m     calc_energies \u001b[39m=\u001b[39m np\u001b[39m.\u001b[39msqueeze(calc_energies)\n\u001b[0;32m   1150\u001b[0m \u001b[39mexcept\u001b[39;00m (\u001b[39mTypeError\u001b[39;00m, \u001b[39mValueError\u001b[39;00m) \u001b[39mas\u001b[39;00m e:\n\u001b[0;32m   1151\u001b[0m     \u001b[39m# wrong number of arguments for _mapwrapper\u001b[39;00m\n\u001b[0;32m   1152\u001b[0m     \u001b[39m# or wrong length returned from the mapper\u001b[39;00m\n\u001b[1;32m-> 1153\u001b[0m     \u001b[39mraise\u001b[39;00m \u001b[39mRuntimeError\u001b[39;00m(\n\u001b[0;32m   1154\u001b[0m         \u001b[39m\"\u001b[39m\u001b[39mThe map-like callable must be of the form f(func, iterable), \u001b[39m\u001b[39m\"\u001b[39m\n\u001b[0;32m   1155\u001b[0m         \u001b[39m\"\u001b[39m\u001b[39mreturning a sequence of numbers the same length as \u001b[39m\u001b[39m'\u001b[39m\u001b[39miterable\u001b[39m\u001b[39m'\u001b[39m\u001b[39m\"\u001b[39m\n\u001b[0;32m   1156\u001b[0m     ) \u001b[39mfrom\u001b[39;00m \u001b[39me\u001b[39;00m\n\u001b[0;32m   1158\u001b[0m \u001b[39mif\u001b[39;00m calc_energies\u001b[39m.\u001b[39msize \u001b[39m!=\u001b[39m S:\n\u001b[0;32m   1159\u001b[0m     \u001b[39mif\u001b[39;00m \u001b[39mself\u001b[39m\u001b[39m.\u001b[39mvectorized:\n",
      "\u001b[1;31mRuntimeError\u001b[0m: The map-like callable must be of the form f(func, iterable), returning a sequence of numbers the same length as 'iterable'"
     ]
    }
   ],
   "source": [
    "import fit.py\n"
   ]
  },
  {
   "cell_type": "code",
   "execution_count": null,
   "metadata": {},
   "outputs": [],
   "source": [
    "[0.02528023 0.43195493 8.72569561 0.46411847 4.08576136 0.22040723\n",
    " 0.1029096 ]\n",
    "DMC.calculateDelta(0.46411847, 4.08576136, 0.22040723, _, 0.1029086, True)"
   ]
  },
  {
   "cell_type": "code",
   "execution_count": null,
   "metadata": {},
   "outputs": [],
   "source": [
    "jobs=[]\n",
    "results = []\n",
    "\n",
    "parameters = {\"alpha\": 2, \"beta\": 3}\n",
    "dt = .1\n",
    "var = .01\n",
    "nTrials = 1000\n",
    "bins = 4\n",
    "\n",
    "# Create a list that contains all of the parameter values (input params + how many trials should go in each bin)\n",
    "# Each extending model class has default dt, var, nTrial, and noiseSeed values for their model_simulation() \n",
    "values_list = [list(parameters.values())]\n",
    "\n",
    "values_list.append(dt)\n",
    "values_list.append(var)\n",
    "values_list.append(int(nTrials/bins))\n",
    "print(values_list)\n",
    "\n",
    "## preferably have dt, var, etc be defined by user in the beginning in the one file they run. only have default values for the fn the user is \n",
    "# using, not within the methods themselves\n",
    "\n",
    "#remove defaults from extending model classes for dt var etc, and add them to tuple here\n",
    "\n",
    "# Turn the params list into a tuple\n",
    "values_tuple = tuple(values_list)\n",
    "print(values_tuple)"
   ]
  },
  {
   "cell_type": "code",
   "execution_count": null,
   "metadata": {},
   "outputs": [],
   "source": [
    "import math\n",
    "shape = 2\n",
    "characteristic_time = 0.5\n",
    "peak_amplitude = 0.5\n",
    "automatic_time = 0.5\n",
    "mu_c = 0.5\n",
    "print((-peak_amplitude * math.exp(-(automatic_time / characteristic_time)) * math.pow(((automatic_time * math.exp(1)) / ((shape - 1) * characteristic_time)), (shape - 1)) * (((shape - 1) / automatic_time) - (1 / characteristic_time))) + mu_c)"
   ]
  },
  {
   "cell_type": "code",
   "execution_count": null,
   "metadata": {},
   "outputs": [],
   "source": [
    "math.pow(-.5, -.5)"
   ]
  },
  {
   "cell_type": "code",
   "execution_count": null,
   "metadata": {},
   "outputs": [],
   "source": [
    "(-.5)**(-.5)"
   ]
  },
  {
   "cell_type": "markdown",
   "metadata": {},
   "source": [
    "goal is to import a function that uses fit.py as a dependency"
   ]
  }
 ],
 "metadata": {
  "kernelspec": {
   "display_name": "Python 3.11.4 ('simulationenv')",
   "language": "python",
   "name": "python3"
  },
  "language_info": {
   "codemirror_mode": {
    "name": "ipython",
    "version": 3
   },
   "file_extension": ".py",
   "mimetype": "text/x-python",
   "name": "python",
   "nbconvert_exporter": "python",
   "pygments_lexer": "ipython3",
   "version": "3.11.4"
  },
  "orig_nbformat": 4,
  "vscode": {
   "interpreter": {
    "hash": "997e78766c1d3f62d22de82252db3ce82bc27ac1ddc46c523e05bd0361ced723"
   }
  }
 },
 "nbformat": 4,
 "nbformat_minor": 2
}
